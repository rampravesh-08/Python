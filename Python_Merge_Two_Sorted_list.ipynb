{
 "cells": [
  {
   "cell_type": "markdown",
   "metadata": {},
   "source": [
    "Merge two sorted list in acending order."
   ]
  },
  {
   "cell_type": "code",
   "execution_count": 1,
   "metadata": {},
   "outputs": [],
   "source": [
    "lst1 = [3,4,1,5,10]\n",
    "lst2 = [2,4,7,12]\n"
   ]
  },
  {
   "cell_type": "code",
   "execution_count": 2,
   "metadata": {},
   "outputs": [],
   "source": [
    "def sort_list(list1):\n",
    "    for i in range(0,len(list1)-1):\n",
    "        large = int(list1[i])\n",
    "        index = -1\n",
    "        for j in range(i+1, len(list1)):\n",
    "            if(large < list1[j]):\n",
    "                large = list1[j]    \n",
    "                index = j                 \n",
    "        if(index > -1):\n",
    "            list1[index]=list1[i]\n",
    "            list1[i] = large\n",
    "    return list1"
   ]
  },
  {
   "cell_type": "code",
   "execution_count": 3,
   "metadata": {},
   "outputs": [],
   "source": [
    "def merge_sorted_list(l1,l2):\n",
    "    sorted_l2 = []\n",
    "    l1_pointer,l2_pointer=0,0\n",
    "    for i in range(0,(len(l1)+len(l2))):\n",
    "        if(l1_pointer >= len(l1) or l1_pointer >= len(l2)):\n",
    "            break\n",
    "        if(l1[l1_pointer]<l2[l2_pointer]):\n",
    "            sorted_l2.append(l1[l1_pointer])\n",
    "            l1_pointer += 1\n",
    "        else:\n",
    "            sorted_l2.append(l2[l2_pointer])\n",
    "            l2_pointer += 1\n",
    "\n",
    "    for i in range(l1_pointer,len(l1)):\n",
    "        sorted_l2.append(l1[i])\n",
    "\n",
    "    for i in range(l2_pointer,len(l2)):\n",
    "        sorted_l2.append(l2[i])\n",
    "        \n",
    "    return sorted_l2"
   ]
  },
  {
   "cell_type": "markdown",
   "metadata": {},
   "source": [
    "l1 = sort_list(lst1)\n",
    "l2 = sort_list(lst2)\n",
    "sorted_list = merge_sorted_list(l1,l2)\n",
    "\n",
    "sorted_list"
   ]
  }
 ],
 "metadata": {
  "kernelspec": {
   "display_name": "Python 3",
   "language": "python",
   "name": "python3"
  },
  "language_info": {
   "codemirror_mode": {
    "name": "ipython",
    "version": 3
   },
   "file_extension": ".py",
   "mimetype": "text/x-python",
   "name": "python",
   "nbconvert_exporter": "python",
   "pygments_lexer": "ipython3",
   "version": "3.7.4"
  }
 },
 "nbformat": 4,
 "nbformat_minor": 2
}
