{
 "cells": [
  {
   "cell_type": "markdown",
   "metadata": {},
   "source": [
    "Question: \n",
    "A new tech start-up is trying to experiment with their employee hierarchy structure. They are maintaining a hierarchy structure where the employee id is organized according to a Binary Search Tree.\n",
    "\n",
    "Write a program to arrange the given employee id in a Binary Search Tree format & then find the immediate reporting manager of any given employee in the organization.\n",
    "  34\n",
    " / \\\n",
    "23 83\n",
    "   / \\\n",
    "  77 99\n",
    " / \\\n",
    "55 80\n",
    "\n",
    "Input Format\n",
    "The first line should contain the number of employees n to be inserted in the tree.\n",
    "The second line should contain the employee id for which we need to find the immediate reporting manager.\n",
    "The next n lines should contain the employee ids to form the binary search tree.\n",
    "\n",
    "Output Format\n",
    "The output should print the immediate reporting manager of the given employee id.\n",
    "\n",
    "Constraints\n",
    "If the employee is the root element of the tree, then the output should be his/her own employee id.\n",
    "If the employee id doesn't exist,  print 'Employee Not Found'.\n",
    "0 < n < 100\n",
    "Sample Test Cases\n",
    "Sample Input\n",
    "7\n",
    "55\n",
    "34\n",
    "23\n",
    "83\n",
    "77\n",
    "99\n",
    "55\n",
    "80\n",
    "\n",
    "Sample Output\n",
    "77\n",
    "    "
   ]
  },
  {
   "cell_type": "code",
   "execution_count": 79,
   "metadata": {},
   "outputs": [],
   "source": [
    "class Employee:\n",
    "    def __init__(self,emp_id,emp_name):\n",
    "        self.emp_id = emp_id\n",
    "        self.emp_name = emp_name\n",
    "        \n",
    "    def get_emp_id(self):\n",
    "        return self.emp_id\n",
    "    \n",
    "    def show_employee(self):\n",
    "        print('Employee ID: '+ str(self.emp_id), 'Name: '+ self.emp_name)"
   ]
  },
  {
   "cell_type": "code",
   "execution_count": 80,
   "metadata": {},
   "outputs": [],
   "source": [
    "class Node:\n",
    "    def __init__(self, data, left,right ):\n",
    "        self.data=data\n",
    "        self.left = left\n",
    "        self.right = right\n",
    "        \n",
    "    def get_data_node(self):\n",
    "        return self.data"
   ]
  },
  {
   "cell_type": "code",
   "execution_count": 85,
   "metadata": {},
   "outputs": [],
   "source": [
    "class BST:\n",
    "    def __init__(self,root):\n",
    "        self.root = root\n",
    "        \n",
    "    def get_root(self):\n",
    "        return self.root\n",
    "    \n",
    "    def insert_node(self,node):\n",
    "        if(self.root is None):\n",
    "            self.root = node\n",
    "            return\n",
    "        \n",
    "        prev_node = tmp_node = self.root\n",
    "        while(tmp_node is not None):\n",
    "            prev_node = tmp_node\n",
    "            if (node.get_data_node().get_emp_id() > tmp_node.get_data_node().get_emp_id()):\n",
    "                tmp_node = tmp_node.right\n",
    "            else:\n",
    "                tmp_node = tmp_node.left\n",
    "                \n",
    "        if (node.get_data_node().get_emp_id() > prev_node.get_data_node().get_emp_id()):\n",
    "            prev_node.right = node\n",
    "        else:\n",
    "            prev_node.left = node\n",
    "            \n",
    "    \n",
    "    def find_parent(self, node):\n",
    "         if(self.root is None):\n",
    "            return None\n",
    "        \n",
    "         if(self.root.get_data_node().get_emp_id() == node.get_data_node().get_emp_id()):\n",
    "            return self.root\n",
    "         prev_node = tmp_node = self.root\n",
    "         while(tmp_node is not None):\n",
    "             if (node.get_data_node().get_emp_id() == tmp_node.get_data_node().get_emp_id()):\n",
    "                 return prev_node\n",
    "             elif (node.get_data_node().get_emp_id() > tmp_node.get_data_node().get_emp_id()):\n",
    "                 prev_node = tmp_node\n",
    "                 tmp_node = tmp_node.right\n",
    "             else:\n",
    "                 prev_node = tmp_node\n",
    "                 tmp_node = tmp_node.left\n",
    "                \n",
    "         return None\n",
    "\n",
    "        "
   ]
  },
  {
   "cell_type": "code",
   "execution_count": 86,
   "metadata": {},
   "outputs": [],
   "source": [
    "input = [7, Employee(55,'Ram'),Employee(34,'Pravesh'),Employee(23,'kumar'),Employee(83,'Verma'),Employee(77,'Sandy'),Employee(99,'yadav'),Employee(55,'kench'),Employee(80,'nandi')]"
   ]
  },
  {
   "cell_type": "code",
   "execution_count": 87,
   "metadata": {},
   "outputs": [],
   "source": [
    "n = input[0]\n",
    "seachable_emp = input[1]\n",
    "emp_list = input[2:len(input)]\n",
    "bst_tree = BST(None)\n",
    " \n",
    "for emp in emp_list:\n",
    "    node = Node(emp,None,None)\n",
    "    bst_tree.insert_node(node)"
   ]
  },
  {
   "cell_type": "code",
   "execution_count": 88,
   "metadata": {},
   "outputs": [
    {
     "name": "stdout",
     "output_type": "stream",
     "text": [
      "Employee ID: 77 Name: Sandy\n"
     ]
    }
   ],
   "source": [
    "manager_node = bst_tree.find_parent(Node(seachable_emp,None,None))\n",
    "if(manager_node is not None):\n",
    "    manager_node.get_data_node().show_employee()   "
   ]
  },
  {
   "cell_type": "code",
   "execution_count": null,
   "metadata": {},
   "outputs": [],
   "source": []
  }
 ],
 "metadata": {
  "kernelspec": {
   "display_name": "Python 3",
   "language": "python",
   "name": "python3"
  },
  "language_info": {
   "codemirror_mode": {
    "name": "ipython",
    "version": 3
   },
   "file_extension": ".py",
   "mimetype": "text/x-python",
   "name": "python",
   "nbconvert_exporter": "python",
   "pygments_lexer": "ipython3",
   "version": "3.7.4"
  }
 },
 "nbformat": 4,
 "nbformat_minor": 2
}
