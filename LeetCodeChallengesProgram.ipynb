{
 "cells": [
  {
   "cell_type": "markdown",
   "metadata": {},
   "source": [
    "## Given an array of integers, return indices of the two numbers such that they add up to a specific target.\n",
    "\n",
    "## You may assume that each input would have exactly one solution, and you may not use the same element twice.\n",
    "\n",
    "## Example:\n",
    "\n",
    "## Given nums = [2, 7, 11, 15], target = 9,\n",
    "\n",
    "## Because nums[0] + nums[1] = 2 + 7 = 9,\n",
    "## return [0, 1].\n",
    "\n"
   ]
  },
  {
   "cell_type": "code",
   "execution_count": 1,
   "metadata": {},
   "outputs": [],
   "source": [
    "\n",
    "from typing import List"
   ]
  },
  {
   "cell_type": "code",
   "execution_count": 2,
   "metadata": {},
   "outputs": [],
   "source": [
    "class Solution:\n",
    "    def twoSum(self, nums: List[int], target: int) -> List[int]:\n",
    "        for i in range(0,len(nums)):\n",
    "            for j in range(i+1,len(nums)):\n",
    "                if (i != j) and ((nums[i]+nums[j]) == target):\n",
    "                    return [i,j]"
   ]
  },
  {
   "cell_type": "code",
   "execution_count": 3,
   "metadata": {},
   "outputs": [
    {
     "name": "stdout",
     "output_type": "stream",
     "text": [
      "[0, 3]\n"
     ]
    }
   ],
   "source": [
    "sol = Solution()            \n",
    "l = [2, 11, 15,7]\n",
    "target = 9\n",
    "res = sol.twoSum(l,target)\n",
    "print(res)"
   ]
  },
  {
   "cell_type": "markdown",
   "metadata": {},
   "source": [
    "## You are given two non-empty linked lists representing two non-negative integers. The digits are stored in reverse order and each of their nodes contain a single digit. Add the two numbers and return it as a linked list.\n",
    "\n",
    "## You may assume the two numbers do not contain any leading zero, except the number 0 itself.\n",
    "\n",
    "## Example:\n",
    "\n",
    "## Input: (2 -> 4 -> 3) + (5 -> 6 -> 4)\n",
    "## Output: 7 -> 0 -> 8\n",
    "## Explanation: 342 + 465 = 807.\n",
    "\n"
   ]
  },
  {
   "cell_type": "code",
   "execution_count": 5,
   "metadata": {},
   "outputs": [],
   "source": [
    "# Definition for singly-linked list.\n",
    "class ListNode:\n",
    "    def __init__(self, val=0, next=None):\n",
    "        self.val = val\n",
    "        self.next = next"
   ]
  },
  {
   "cell_type": "code",
   "execution_count": 6,
   "metadata": {},
   "outputs": [],
   "source": [
    "class Solution:\n",
    "    def addTwoNumbers(self, l1: ListNode, l2: ListNode) -> ListNode:\n",
    "        node1,node2 = l1,l2;\n",
    "        num1,num2,cnt = 0,0,1;\n",
    "        while(node1 or node2):\n",
    "            if node1:\n",
    "                num1 = num1 + node1.val*cnt\n",
    "                node1=node1.next\n",
    "            if node2:\n",
    "                num2 = num2 + node2.val*cnt\n",
    "                node2=node2.next\n",
    "            cnt *=10\n",
    "            \n",
    "        s = num1+num2\n",
    "        cnt /=10\n",
    "        res = None\n",
    "        lastNode = None\n",
    "        while(True):\n",
    "            node = ListNode()\n",
    "            node.val = s%10\n",
    "            node.next = None\n",
    "            if res == None:\n",
    "                res=node\n",
    "            else:\n",
    "                lastNode.next=node\n",
    "            s = s // 10\n",
    "            lastNode=node\n",
    "            if(s <=0 ):\n",
    "                break\n",
    "            \n",
    "        return res"
   ]
  },
  {
   "cell_type": "markdown",
   "metadata": {},
   "source": [
    "## 3. Longest Substring Without Repeating Characters\n",
    "Medium\n",
    "\n",
    "Given a string, find the length of the longest substring without repeating characters.\n",
    "\n",
    "Example 1:\n",
    "\n",
    "Input: \"abcabcbb\"\n",
    "Output: 3 \n",
    "Explanation: The answer is \"abc\", with the length of 3. \n",
    "\n",
    "Example 2:\n",
    "\n",
    "Input: \"bbbbb\"\n",
    "Output: 1\n",
    "Explanation: The answer is \"b\", with the length of 1.\n",
    "\n",
    "Example 3:\n",
    "\n",
    "Input: \"pwwkew\"\n",
    "Output: 3\n",
    "Explanation: The answer is \"wke\", with the length of 3. \n",
    "             Note that the answer must be a substring, \"pwke\" is a subsequence and not a substring."
   ]
  },
  {
   "cell_type": "code",
   "execution_count": null,
   "metadata": {},
   "outputs": [],
   "source": [
    "class Solution:\n",
    "    def lengthOfLongestSubstring(self, s: str) -> int:\n",
    "        l = []\n",
    "        leen = 0\n",
    "        for i in range(0,len(s)):\n",
    "            l.clear()\n",
    "            l.append(s[i])\n",
    "            for j in range(i+1,len(s)):\n",
    "                if s[j] in l:\n",
    "                    break\n",
    "                l.append(s[j])\n",
    "                    \n",
    "            if len(l) > leen:\n",
    "                leen = len(l)\n",
    "\n",
    "        return leen"
   ]
  }
 ],
 "metadata": {
  "kernelspec": {
   "display_name": "Python 3",
   "language": "python",
   "name": "python3"
  },
  "language_info": {
   "codemirror_mode": {
    "name": "ipython",
    "version": 3
   },
   "file_extension": ".py",
   "mimetype": "text/x-python",
   "name": "python",
   "nbconvert_exporter": "python",
   "pygments_lexer": "ipython3",
   "version": "3.7.4"
  }
 },
 "nbformat": 4,
 "nbformat_minor": 2
}
