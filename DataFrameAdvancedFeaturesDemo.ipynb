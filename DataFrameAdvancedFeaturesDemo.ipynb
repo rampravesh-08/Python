{
 "cells": [
  {
   "cell_type": "markdown",
   "metadata": {},
   "source": [
    "#  Explore and Practice Some Advanced Features of Pandas"
   ]
  },
  {
   "cell_type": "markdown",
   "metadata": {},
   "source": [
    "## Pandas is the gold standard library for all things data. With functionality to load, filter, manipulate, and explore data."
   ]
  },
  {
   "cell_type": "code",
   "execution_count": null,
   "metadata": {},
   "outputs": [],
   "source": [
    "import pandas as pd\n",
    "import numpy as np"
   ]
  },
  {
   "cell_type": "code",
   "execution_count": 10,
   "metadata": {},
   "outputs": [],
   "source": [
    "emp_data_11 = pd.read_csv('C:\\\\RamPravesh\\\\BigData\\\\Dataset\\\\csv\\\\datasets_1632_774340_HRDataset_v13.csv')\n",
    "emp_data_12 = pd.read_csv('C:\\\\RamPravesh\\\\BigData\\\\Dataset\\\\csv\\\\datasets_1632_774340_HRDataset_v13.csv')\n",
    "emp_data_13 = pd.read_csv('C:\\\\RamPravesh\\\\BigData\\\\Dataset\\\\csv\\\\datasets_1632_774340_HRDataset_v13.csv')"
   ]
  },
  {
   "cell_type": "code",
   "execution_count": 43,
   "metadata": {},
   "outputs": [
    {
     "data": {
      "text/plain": [
       "(310, 35)"
      ]
     },
     "execution_count": 43,
     "metadata": {},
     "output_type": "execute_result"
    }
   ],
   "source": [
    "emp_data_11.shape"
   ]
  },
  {
   "cell_type": "code",
   "execution_count": 44,
   "metadata": {},
   "outputs": [
    {
     "data": {
      "text/plain": [
       "(310, 35)"
      ]
     },
     "execution_count": 44,
     "metadata": {},
     "output_type": "execute_result"
    }
   ],
   "source": [
    "emp_data_12.shape"
   ]
  },
  {
   "cell_type": "code",
   "execution_count": 45,
   "metadata": {},
   "outputs": [
    {
     "data": {
      "text/plain": [
       "(310, 35)"
      ]
     },
     "execution_count": 45,
     "metadata": {},
     "output_type": "execute_result"
    }
   ],
   "source": [
    "emp_data_13.shape"
   ]
  },
  {
   "cell_type": "markdown",
   "metadata": {},
   "source": [
    "## Concatenate DataFrames in Pandas vertically."
   ]
  },
  {
   "cell_type": "code",
   "execution_count": 14,
   "metadata": {},
   "outputs": [],
   "source": [
    "emp_data = pd.concat([emp_data_11,emp_data_11,emp_data_11], axis=0)"
   ]
  },
  {
   "cell_type": "code",
   "execution_count": 46,
   "metadata": {},
   "outputs": [
    {
     "data": {
      "text/plain": [
       "(930, 35)"
      ]
     },
     "execution_count": 46,
     "metadata": {},
     "output_type": "execute_result"
    }
   ],
   "source": [
    "emp_data.shape"
   ]
  },
  {
   "cell_type": "code",
   "execution_count": 15,
   "metadata": {},
   "outputs": [
    {
     "data": {
      "text/html": [
       "<div>\n",
       "<style scoped>\n",
       "    .dataframe tbody tr th:only-of-type {\n",
       "        vertical-align: middle;\n",
       "    }\n",
       "\n",
       "    .dataframe tbody tr th {\n",
       "        vertical-align: top;\n",
       "    }\n",
       "\n",
       "    .dataframe thead th {\n",
       "        text-align: right;\n",
       "    }\n",
       "</style>\n",
       "<table border=\"1\" class=\"dataframe\">\n",
       "  <thead>\n",
       "    <tr style=\"text-align: right;\">\n",
       "      <th></th>\n",
       "      <th>Employee_Name</th>\n",
       "      <th>EmpID</th>\n",
       "      <th>MarriedID</th>\n",
       "      <th>MaritalStatusID</th>\n",
       "      <th>GenderID</th>\n",
       "      <th>EmpStatusID</th>\n",
       "      <th>DeptID</th>\n",
       "      <th>PerfScoreID</th>\n",
       "      <th>FromDiversityJobFairID</th>\n",
       "      <th>PayRate</th>\n",
       "      <th>...</th>\n",
       "      <th>Department</th>\n",
       "      <th>ManagerName</th>\n",
       "      <th>ManagerID</th>\n",
       "      <th>RecruitmentSource</th>\n",
       "      <th>PerformanceScore</th>\n",
       "      <th>EngagementSurvey</th>\n",
       "      <th>EmpSatisfaction</th>\n",
       "      <th>SpecialProjectsCount</th>\n",
       "      <th>LastPerformanceReview_Date</th>\n",
       "      <th>DaysLateLast30</th>\n",
       "    </tr>\n",
       "  </thead>\n",
       "  <tbody>\n",
       "    <tr>\n",
       "      <td>0</td>\n",
       "      <td>Brown, Mia</td>\n",
       "      <td>1103024456</td>\n",
       "      <td>1</td>\n",
       "      <td>1</td>\n",
       "      <td>0</td>\n",
       "      <td>1</td>\n",
       "      <td>1</td>\n",
       "      <td>3</td>\n",
       "      <td>1</td>\n",
       "      <td>28.50</td>\n",
       "      <td>...</td>\n",
       "      <td>1000</td>\n",
       "      <td>Brandon R. LeBlanc</td>\n",
       "      <td>1.0</td>\n",
       "      <td>Diversity Job Fair</td>\n",
       "      <td>Fully Meets</td>\n",
       "      <td>2.04</td>\n",
       "      <td>2</td>\n",
       "      <td>6</td>\n",
       "      <td>1/15/2019</td>\n",
       "      <td>0.0</td>\n",
       "    </tr>\n",
       "    <tr>\n",
       "      <td>1</td>\n",
       "      <td>LaRotonda, William</td>\n",
       "      <td>1106026572</td>\n",
       "      <td>0</td>\n",
       "      <td>2</td>\n",
       "      <td>1</td>\n",
       "      <td>1</td>\n",
       "      <td>1</td>\n",
       "      <td>3</td>\n",
       "      <td>0</td>\n",
       "      <td>23.00</td>\n",
       "      <td>...</td>\n",
       "      <td>1000</td>\n",
       "      <td>Brandon R. LeBlanc</td>\n",
       "      <td>1.0</td>\n",
       "      <td>Website Banner Ads</td>\n",
       "      <td>Fully Meets</td>\n",
       "      <td>5.00</td>\n",
       "      <td>4</td>\n",
       "      <td>4</td>\n",
       "      <td>1/17/2019</td>\n",
       "      <td>0.0</td>\n",
       "    </tr>\n",
       "    <tr>\n",
       "      <td>2</td>\n",
       "      <td>Steans, Tyrone</td>\n",
       "      <td>1302053333</td>\n",
       "      <td>0</td>\n",
       "      <td>0</td>\n",
       "      <td>1</td>\n",
       "      <td>1</td>\n",
       "      <td>1</td>\n",
       "      <td>3</td>\n",
       "      <td>0</td>\n",
       "      <td>29.00</td>\n",
       "      <td>...</td>\n",
       "      <td>1000</td>\n",
       "      <td>Brandon R. LeBlanc</td>\n",
       "      <td>1.0</td>\n",
       "      <td>Internet Search</td>\n",
       "      <td>Fully Meets</td>\n",
       "      <td>3.90</td>\n",
       "      <td>5</td>\n",
       "      <td>5</td>\n",
       "      <td>1/18/2019</td>\n",
       "      <td>0.0</td>\n",
       "    </tr>\n",
       "    <tr>\n",
       "      <td>3</td>\n",
       "      <td>Howard, Estelle</td>\n",
       "      <td>1211050782</td>\n",
       "      <td>1</td>\n",
       "      <td>1</td>\n",
       "      <td>0</td>\n",
       "      <td>1</td>\n",
       "      <td>1</td>\n",
       "      <td>3</td>\n",
       "      <td>0</td>\n",
       "      <td>21.50</td>\n",
       "      <td>...</td>\n",
       "      <td>1000</td>\n",
       "      <td>Brandon R. LeBlanc</td>\n",
       "      <td>1.0</td>\n",
       "      <td>Pay Per Click - Google</td>\n",
       "      <td>Fully Meets</td>\n",
       "      <td>3.24</td>\n",
       "      <td>3</td>\n",
       "      <td>4</td>\n",
       "      <td>NaN</td>\n",
       "      <td>NaN</td>\n",
       "    </tr>\n",
       "    <tr>\n",
       "      <td>4</td>\n",
       "      <td>Singh, Nan</td>\n",
       "      <td>1307059817</td>\n",
       "      <td>0</td>\n",
       "      <td>0</td>\n",
       "      <td>0</td>\n",
       "      <td>1</td>\n",
       "      <td>1</td>\n",
       "      <td>3</td>\n",
       "      <td>0</td>\n",
       "      <td>16.56</td>\n",
       "      <td>...</td>\n",
       "      <td>1000</td>\n",
       "      <td>Brandon R. LeBlanc</td>\n",
       "      <td>1.0</td>\n",
       "      <td>Website Banner Ads</td>\n",
       "      <td>Fully Meets</td>\n",
       "      <td>5.00</td>\n",
       "      <td>3</td>\n",
       "      <td>5</td>\n",
       "      <td>1/15/2019</td>\n",
       "      <td>0.0</td>\n",
       "    </tr>\n",
       "  </tbody>\n",
       "</table>\n",
       "<p>5 rows × 35 columns</p>\n",
       "</div>"
      ],
      "text/plain": [
       "          Employee_Name       EmpID  MarriedID  MaritalStatusID  GenderID  \\\n",
       "0            Brown, Mia  1103024456          1                1         0   \n",
       "1  LaRotonda, William    1106026572          0                2         1   \n",
       "2      Steans, Tyrone    1302053333          0                0         1   \n",
       "3       Howard, Estelle  1211050782          1                1         0   \n",
       "4           Singh, Nan   1307059817          0                0         0   \n",
       "\n",
       "   EmpStatusID  DeptID  PerfScoreID  FromDiversityJobFairID  PayRate  ...  \\\n",
       "0            1       1            3                       1    28.50  ...   \n",
       "1            1       1            3                       0    23.00  ...   \n",
       "2            1       1            3                       0    29.00  ...   \n",
       "3            1       1            3                       0    21.50  ...   \n",
       "4            1       1            3                       0    16.56  ...   \n",
       "\n",
       "   Department         ManagerName ManagerID       RecruitmentSource  \\\n",
       "0        1000  Brandon R. LeBlanc       1.0      Diversity Job Fair   \n",
       "1        1000  Brandon R. LeBlanc       1.0      Website Banner Ads   \n",
       "2        1000  Brandon R. LeBlanc       1.0         Internet Search   \n",
       "3        1000  Brandon R. LeBlanc       1.0  Pay Per Click - Google   \n",
       "4        1000  Brandon R. LeBlanc       1.0      Website Banner Ads   \n",
       "\n",
       "   PerformanceScore EngagementSurvey EmpSatisfaction SpecialProjectsCount  \\\n",
       "0       Fully Meets             2.04               2                    6   \n",
       "1       Fully Meets             5.00               4                    4   \n",
       "2       Fully Meets             3.90               5                    5   \n",
       "3       Fully Meets             3.24               3                    4   \n",
       "4       Fully Meets             5.00               3                    5   \n",
       "\n",
       "  LastPerformanceReview_Date DaysLateLast30  \n",
       "0                  1/15/2019            0.0  \n",
       "1                  1/17/2019            0.0  \n",
       "2                  1/18/2019            0.0  \n",
       "3                        NaN            NaN  \n",
       "4                  1/15/2019            0.0  \n",
       "\n",
       "[5 rows x 35 columns]"
      ]
     },
     "execution_count": 15,
     "metadata": {},
     "output_type": "execute_result"
    }
   ],
   "source": [
    "emp_data.head()"
   ]
  },
  {
   "cell_type": "code",
   "execution_count": 7,
   "metadata": {},
   "outputs": [
    {
     "data": {
      "text/plain": [
       "Employee_Name                  object\n",
       "EmpID                           int64\n",
       "MarriedID                       int64\n",
       "MaritalStatusID                 int64\n",
       "GenderID                        int64\n",
       "EmpStatusID                     int64\n",
       "DeptID                          int64\n",
       "PerfScoreID                     int64\n",
       "FromDiversityJobFairID          int64\n",
       "PayRate                       float64\n",
       "Termd                           int64\n",
       "PositionID                      int64\n",
       "Position                       object\n",
       "State                          object\n",
       "Zip                             int64\n",
       "DOB                            object\n",
       "Sex                            object\n",
       "MaritalDesc                    object\n",
       "CitizenDesc                    object\n",
       "HispanicLatino                 object\n",
       "RaceDesc                       object\n",
       "DateofHire                     object\n",
       "DateofTermination              object\n",
       "TermReason                     object\n",
       "EmploymentStatus               object\n",
       "Department                      int64\n",
       "ManagerName                    object\n",
       "ManagerID                     float64\n",
       "RecruitmentSource              object\n",
       "PerformanceScore               object\n",
       "EngagementSurvey              float64\n",
       "EmpSatisfaction                 int64\n",
       "SpecialProjectsCount            int64\n",
       "LastPerformanceReview_Date     object\n",
       "DaysLateLast30                float64\n",
       "dtype: object"
      ]
     },
     "execution_count": 7,
     "metadata": {},
     "output_type": "execute_result"
    }
   ],
   "source": [
    "emp_data.dtypes"
   ]
  },
  {
   "cell_type": "markdown",
   "metadata": {},
   "source": [
    "## Horizontal concat: horizontally stack them to combine those columns / features."
   ]
  },
  {
   "cell_type": "code",
   "execution_count": 22,
   "metadata": {},
   "outputs": [],
   "source": [
    "emp_data_processing = pd.concat([emp_data[['EmpID','Employee_Name']], emp_data[['Department','PayRate']]], axis=1)"
   ]
  },
  {
   "cell_type": "code",
   "execution_count": 28,
   "metadata": {},
   "outputs": [],
   "source": [
    "# Rename the Column Name\n",
    "emp_data_processing.rename(columns={\"Department\":\"DeptID\"}, inplace=True)"
   ]
  },
  {
   "cell_type": "code",
   "execution_count": 42,
   "metadata": {},
   "outputs": [
    {
     "data": {
      "text/plain": [
       "(930, 4)"
      ]
     },
     "execution_count": 42,
     "metadata": {},
     "output_type": "execute_result"
    }
   ],
   "source": [
    "emp_data_processing.shape"
   ]
  },
  {
   "cell_type": "code",
   "execution_count": 29,
   "metadata": {},
   "outputs": [
    {
     "data": {
      "text/html": [
       "<div>\n",
       "<style scoped>\n",
       "    .dataframe tbody tr th:only-of-type {\n",
       "        vertical-align: middle;\n",
       "    }\n",
       "\n",
       "    .dataframe tbody tr th {\n",
       "        vertical-align: top;\n",
       "    }\n",
       "\n",
       "    .dataframe thead th {\n",
       "        text-align: right;\n",
       "    }\n",
       "</style>\n",
       "<table border=\"1\" class=\"dataframe\">\n",
       "  <thead>\n",
       "    <tr style=\"text-align: right;\">\n",
       "      <th></th>\n",
       "      <th>EmpID</th>\n",
       "      <th>Employee_Name</th>\n",
       "      <th>DeptID</th>\n",
       "      <th>PayRate</th>\n",
       "    </tr>\n",
       "  </thead>\n",
       "  <tbody>\n",
       "    <tr>\n",
       "      <td>0</td>\n",
       "      <td>1103024456</td>\n",
       "      <td>Brown, Mia</td>\n",
       "      <td>1000</td>\n",
       "      <td>28.50</td>\n",
       "    </tr>\n",
       "    <tr>\n",
       "      <td>1</td>\n",
       "      <td>1106026572</td>\n",
       "      <td>LaRotonda, William</td>\n",
       "      <td>1000</td>\n",
       "      <td>23.00</td>\n",
       "    </tr>\n",
       "    <tr>\n",
       "      <td>2</td>\n",
       "      <td>1302053333</td>\n",
       "      <td>Steans, Tyrone</td>\n",
       "      <td>1000</td>\n",
       "      <td>29.00</td>\n",
       "    </tr>\n",
       "    <tr>\n",
       "      <td>3</td>\n",
       "      <td>1211050782</td>\n",
       "      <td>Howard, Estelle</td>\n",
       "      <td>1000</td>\n",
       "      <td>21.50</td>\n",
       "    </tr>\n",
       "    <tr>\n",
       "      <td>4</td>\n",
       "      <td>1307059817</td>\n",
       "      <td>Singh, Nan</td>\n",
       "      <td>1000</td>\n",
       "      <td>16.56</td>\n",
       "    </tr>\n",
       "  </tbody>\n",
       "</table>\n",
       "</div>"
      ],
      "text/plain": [
       "        EmpID         Employee_Name  DeptID  PayRate\n",
       "0  1103024456            Brown, Mia    1000    28.50\n",
       "1  1106026572  LaRotonda, William      1000    23.00\n",
       "2  1302053333      Steans, Tyrone      1000    29.00\n",
       "3  1211050782       Howard, Estelle    1000    21.50\n",
       "4  1307059817           Singh, Nan     1000    16.56"
      ]
     },
     "execution_count": 29,
     "metadata": {},
     "output_type": "execute_result"
    }
   ],
   "source": [
    "emp_data_processing.head()"
   ]
  },
  {
   "cell_type": "code",
   "execution_count": 30,
   "metadata": {},
   "outputs": [],
   "source": [
    "dept_data = pd.read_csv('C:\\\\RamPravesh\\\\BigData\\\\Dataset\\\\csv\\\\MGF_department.csv')"
   ]
  },
  {
   "cell_type": "code",
   "execution_count": 31,
   "metadata": {},
   "outputs": [
    {
     "data": {
      "text/plain": [
       "Departiment_ID         int64\n",
       "Name                  object\n",
       "Status                object\n",
       "Purpose               object\n",
       "Establishment_Date    object\n",
       "dtype: object"
      ]
     },
     "execution_count": 31,
     "metadata": {},
     "output_type": "execute_result"
    }
   ],
   "source": [
    "dept_data.dtypes"
   ]
  },
  {
   "cell_type": "code",
   "execution_count": 32,
   "metadata": {},
   "outputs": [],
   "source": [
    "# Rename the Column Name\n",
    "dept_data.rename(columns={\"Departiment_ID\":\"DeptID\"},inplace=True)"
   ]
  },
  {
   "cell_type": "code",
   "execution_count": 33,
   "metadata": {},
   "outputs": [
    {
     "data": {
      "text/html": [
       "<div>\n",
       "<style scoped>\n",
       "    .dataframe tbody tr th:only-of-type {\n",
       "        vertical-align: middle;\n",
       "    }\n",
       "\n",
       "    .dataframe tbody tr th {\n",
       "        vertical-align: top;\n",
       "    }\n",
       "\n",
       "    .dataframe thead th {\n",
       "        text-align: right;\n",
       "    }\n",
       "</style>\n",
       "<table border=\"1\" class=\"dataframe\">\n",
       "  <thead>\n",
       "    <tr style=\"text-align: right;\">\n",
       "      <th></th>\n",
       "      <th>DeptID</th>\n",
       "      <th>Name</th>\n",
       "      <th>Status</th>\n",
       "      <th>Purpose</th>\n",
       "      <th>Establishment_Date</th>\n",
       "    </tr>\n",
       "  </thead>\n",
       "  <tbody>\n",
       "    <tr>\n",
       "      <td>0</td>\n",
       "      <td>1000</td>\n",
       "      <td>Admin Offices</td>\n",
       "      <td>Active</td>\n",
       "      <td>Admin Activities</td>\n",
       "      <td>6-Jun-10</td>\n",
       "    </tr>\n",
       "    <tr>\n",
       "      <td>1</td>\n",
       "      <td>1001</td>\n",
       "      <td>Sales</td>\n",
       "      <td>Active</td>\n",
       "      <td>Responsible for sales</td>\n",
       "      <td>7-Jun-10</td>\n",
       "    </tr>\n",
       "    <tr>\n",
       "      <td>2</td>\n",
       "      <td>1002</td>\n",
       "      <td>IT/IS</td>\n",
       "      <td>Active</td>\n",
       "      <td>It related works software and hardware support.</td>\n",
       "      <td>8-Jun-12</td>\n",
       "    </tr>\n",
       "    <tr>\n",
       "      <td>3</td>\n",
       "      <td>1003</td>\n",
       "      <td>Production</td>\n",
       "      <td>Active</td>\n",
       "      <td>Accountable for manfactureing and fullfile the...</td>\n",
       "      <td>9-Jun-10</td>\n",
       "    </tr>\n",
       "    <tr>\n",
       "      <td>4</td>\n",
       "      <td>1004</td>\n",
       "      <td>Executive Office</td>\n",
       "      <td>Active</td>\n",
       "      <td>Mangement related activities.</td>\n",
       "      <td>10-Jun-11</td>\n",
       "    </tr>\n",
       "  </tbody>\n",
       "</table>\n",
       "</div>"
      ],
      "text/plain": [
       "   DeptID              Name  Status  \\\n",
       "0    1000     Admin Offices  Active   \n",
       "1    1001             Sales  Active   \n",
       "2    1002             IT/IS  Active   \n",
       "3    1003        Production  Active   \n",
       "4    1004  Executive Office  Active   \n",
       "\n",
       "                                             Purpose Establishment_Date  \n",
       "0                                   Admin Activities           6-Jun-10  \n",
       "1                              Responsible for sales           7-Jun-10  \n",
       "2    It related works software and hardware support.           8-Jun-12  \n",
       "3  Accountable for manfactureing and fullfile the...           9-Jun-10  \n",
       "4                      Mangement related activities.          10-Jun-11  "
      ]
     },
     "execution_count": 33,
     "metadata": {},
     "output_type": "execute_result"
    }
   ],
   "source": [
    "dept_data.head()"
   ]
  },
  {
   "cell_type": "markdown",
   "metadata": {},
   "source": [
    "## Merging two DataFrames in Pandas is done with the merge function. \n",
    "### The left and right parameters refer to the 2 DataFrames you wish to merge, while on specifies the column to be used for the matching."
   ]
  },
  {
   "cell_type": "code",
   "execution_count": 35,
   "metadata": {},
   "outputs": [],
   "source": [
    "emp_dept_df = pd.merge(left=emp_data_processing, right=dept_data, on=\"DeptID\")"
   ]
  },
  {
   "cell_type": "code",
   "execution_count": 41,
   "metadata": {},
   "outputs": [
    {
     "data": {
      "text/plain": [
       "(930, 8)"
      ]
     },
     "execution_count": 41,
     "metadata": {},
     "output_type": "execute_result"
    }
   ],
   "source": [
    "emp_dept_df.shape"
   ]
  },
  {
   "cell_type": "code",
   "execution_count": 38,
   "metadata": {},
   "outputs": [
    {
     "data": {
      "text/html": [
       "<div>\n",
       "<style scoped>\n",
       "    .dataframe tbody tr th:only-of-type {\n",
       "        vertical-align: middle;\n",
       "    }\n",
       "\n",
       "    .dataframe tbody tr th {\n",
       "        vertical-align: top;\n",
       "    }\n",
       "\n",
       "    .dataframe thead th {\n",
       "        text-align: right;\n",
       "    }\n",
       "</style>\n",
       "<table border=\"1\" class=\"dataframe\">\n",
       "  <thead>\n",
       "    <tr style=\"text-align: right;\">\n",
       "      <th></th>\n",
       "      <th>EmpID</th>\n",
       "      <th>Employee_Name</th>\n",
       "      <th>DeptID</th>\n",
       "      <th>PayRate</th>\n",
       "      <th>Name</th>\n",
       "      <th>Status</th>\n",
       "      <th>Purpose</th>\n",
       "      <th>Establishment_Date</th>\n",
       "    </tr>\n",
       "  </thead>\n",
       "  <tbody>\n",
       "    <tr>\n",
       "      <td>0</td>\n",
       "      <td>1103024456</td>\n",
       "      <td>Brown, Mia</td>\n",
       "      <td>1000</td>\n",
       "      <td>28.50</td>\n",
       "      <td>Admin Offices</td>\n",
       "      <td>Active</td>\n",
       "      <td>Admin Activities</td>\n",
       "      <td>6-Jun-10</td>\n",
       "    </tr>\n",
       "    <tr>\n",
       "      <td>1</td>\n",
       "      <td>1106026572</td>\n",
       "      <td>LaRotonda, William</td>\n",
       "      <td>1000</td>\n",
       "      <td>23.00</td>\n",
       "      <td>Admin Offices</td>\n",
       "      <td>Active</td>\n",
       "      <td>Admin Activities</td>\n",
       "      <td>6-Jun-10</td>\n",
       "    </tr>\n",
       "    <tr>\n",
       "      <td>2</td>\n",
       "      <td>1302053333</td>\n",
       "      <td>Steans, Tyrone</td>\n",
       "      <td>1000</td>\n",
       "      <td>29.00</td>\n",
       "      <td>Admin Offices</td>\n",
       "      <td>Active</td>\n",
       "      <td>Admin Activities</td>\n",
       "      <td>6-Jun-10</td>\n",
       "    </tr>\n",
       "    <tr>\n",
       "      <td>3</td>\n",
       "      <td>1211050782</td>\n",
       "      <td>Howard, Estelle</td>\n",
       "      <td>1000</td>\n",
       "      <td>21.50</td>\n",
       "      <td>Admin Offices</td>\n",
       "      <td>Active</td>\n",
       "      <td>Admin Activities</td>\n",
       "      <td>6-Jun-10</td>\n",
       "    </tr>\n",
       "    <tr>\n",
       "      <td>4</td>\n",
       "      <td>1307059817</td>\n",
       "      <td>Singh, Nan</td>\n",
       "      <td>1000</td>\n",
       "      <td>16.56</td>\n",
       "      <td>Admin Offices</td>\n",
       "      <td>Active</td>\n",
       "      <td>Admin Activities</td>\n",
       "      <td>6-Jun-10</td>\n",
       "    </tr>\n",
       "    <tr>\n",
       "      <td>...</td>\n",
       "      <td>...</td>\n",
       "      <td>...</td>\n",
       "      <td>...</td>\n",
       "      <td>...</td>\n",
       "      <td>...</td>\n",
       "      <td>...</td>\n",
       "      <td>...</td>\n",
       "      <td>...</td>\n",
       "    </tr>\n",
       "    <tr>\n",
       "      <td>905</td>\n",
       "      <td>1112030979</td>\n",
       "      <td>Patronick, Luke</td>\n",
       "      <td>1005</td>\n",
       "      <td>52.25</td>\n",
       "      <td>Software Engineering</td>\n",
       "      <td>Active</td>\n",
       "      <td>Applying the SDLC agile metholodiegies.</td>\n",
       "      <td>11-Jun-13</td>\n",
       "    </tr>\n",
       "    <tr>\n",
       "      <td>906</td>\n",
       "      <td>1012023185</td>\n",
       "      <td>Saada, Adell</td>\n",
       "      <td>1005</td>\n",
       "      <td>49.25</td>\n",
       "      <td>Software Engineering</td>\n",
       "      <td>Active</td>\n",
       "      <td>Applying the SDLC agile metholodiegies.</td>\n",
       "      <td>11-Jun-13</td>\n",
       "    </tr>\n",
       "    <tr>\n",
       "      <td>907</td>\n",
       "      <td>1201031324</td>\n",
       "      <td>Szabo, Andrew</td>\n",
       "      <td>1005</td>\n",
       "      <td>48.00</td>\n",
       "      <td>Software Engineering</td>\n",
       "      <td>Active</td>\n",
       "      <td>Applying the SDLC agile metholodiegies.</td>\n",
       "      <td>11-Jun-13</td>\n",
       "    </tr>\n",
       "    <tr>\n",
       "      <td>908</td>\n",
       "      <td>1102024057</td>\n",
       "      <td>True, Edward</td>\n",
       "      <td>1005</td>\n",
       "      <td>45.42</td>\n",
       "      <td>Software Engineering</td>\n",
       "      <td>Active</td>\n",
       "      <td>Applying the SDLC agile metholodiegies.</td>\n",
       "      <td>11-Jun-13</td>\n",
       "    </tr>\n",
       "    <tr>\n",
       "      <td>909</td>\n",
       "      <td>1001644719</td>\n",
       "      <td>Sweetwater, Alex</td>\n",
       "      <td>1005</td>\n",
       "      <td>27.00</td>\n",
       "      <td>Software Engineering</td>\n",
       "      <td>Active</td>\n",
       "      <td>Applying the SDLC agile metholodiegies.</td>\n",
       "      <td>11-Jun-13</td>\n",
       "    </tr>\n",
       "  </tbody>\n",
       "</table>\n",
       "<p>910 rows × 8 columns</p>\n",
       "</div>"
      ],
      "text/plain": [
       "          EmpID         Employee_Name  DeptID  PayRate                  Name  \\\n",
       "0    1103024456            Brown, Mia    1000    28.50         Admin Offices   \n",
       "1    1106026572  LaRotonda, William      1000    23.00         Admin Offices   \n",
       "2    1302053333      Steans, Tyrone      1000    29.00         Admin Offices   \n",
       "3    1211050782       Howard, Estelle    1000    21.50         Admin Offices   \n",
       "4    1307059817           Singh, Nan     1000    16.56         Admin Offices   \n",
       "..          ...                   ...     ...      ...                   ...   \n",
       "905  1112030979       Patronick, Luke    1005    52.25  Software Engineering   \n",
       "906  1012023185          Saada, Adell    1005    49.25  Software Engineering   \n",
       "907  1201031324         Szabo, Andrew    1005    48.00  Software Engineering   \n",
       "908  1102024057          True, Edward    1005    45.42  Software Engineering   \n",
       "909  1001644719      Sweetwater, Alex    1005    27.00  Software Engineering   \n",
       "\n",
       "     Status                                  Purpose Establishment_Date  \n",
       "0    Active                         Admin Activities           6-Jun-10  \n",
       "1    Active                         Admin Activities           6-Jun-10  \n",
       "2    Active                         Admin Activities           6-Jun-10  \n",
       "3    Active                         Admin Activities           6-Jun-10  \n",
       "4    Active                         Admin Activities           6-Jun-10  \n",
       "..      ...                                      ...                ...  \n",
       "905  Active  Applying the SDLC agile metholodiegies.          11-Jun-13  \n",
       "906  Active  Applying the SDLC agile metholodiegies.          11-Jun-13  \n",
       "907  Active  Applying the SDLC agile metholodiegies.          11-Jun-13  \n",
       "908  Active  Applying the SDLC agile metholodiegies.          11-Jun-13  \n",
       "909  Active  Applying the SDLC agile metholodiegies.          11-Jun-13  \n",
       "\n",
       "[910 rows x 8 columns]"
      ]
     },
     "execution_count": 38,
     "metadata": {},
     "output_type": "execute_result"
    }
   ],
   "source": [
    "emp_dept_df.head(-20)"
   ]
  },
  {
   "cell_type": "markdown",
   "metadata": {},
   "source": [
    "## To select the type of SQL-style join you want to perform: inner, outer, left, or right. "
   ]
  },
  {
   "cell_type": "markdown",
   "metadata": {},
   "source": [
    "## Here are the different types of the JOINs in SQL:\n",
    "### 1. (INNER) JOIN: Returns records that have matching values in both tables\n",
    "### 2. LEFT (OUTER) JOIN: Returns all records from the left table, and the matched records from the right table \n",
    "### 3. RIGHT (OUTER) JOIN: Returns all records from the right table, and the matched records from the left table\n",
    "### 4. FULL (OUTER) JOIN: Returns all records when there is a match in either left or right table\n"
   ]
  },
  {
   "cell_type": "code",
   "execution_count": null,
   "metadata": {},
   "outputs": [],
   "source": []
  },
  {
   "cell_type": "code",
   "execution_count": null,
   "metadata": {},
   "outputs": [],
   "source": []
  },
  {
   "cell_type": "markdown",
   "metadata": {},
   "source": [
    "## Reshaping DataFrames: There are several ways to reshape and restructure Pandas DataFrames. "
   ]
  },
  {
   "cell_type": "code",
   "execution_count": 48,
   "metadata": {},
   "outputs": [],
   "source": [
    "players_data = {'Player': ['Superman', 'Batman', 'Thanos', 'Batman', 'Thanos',\n",
    "   'Superman', 'Batman', 'Thanos', 'Black Widow', 'Batman', 'Thanos', 'Superman'],\n",
    "   'Year': [2000,2000,2000,2001,2001,2002,2002,2002,2003,2004,2004,2005],\n",
    "   'Points':[23,43,45,65,76,34,23,78,89,76,92,87]}\n",
    "   "
   ]
  },
  {
   "cell_type": "code",
   "execution_count": 50,
   "metadata": {},
   "outputs": [
    {
     "data": {
      "text/plain": [
       "dict"
      ]
     },
     "execution_count": 50,
     "metadata": {},
     "output_type": "execute_result"
    }
   ],
   "source": [
    "type(players_data)"
   ]
  },
  {
   "cell_type": "code",
   "execution_count": 51,
   "metadata": {},
   "outputs": [],
   "source": [
    "player_df = pd.DataFrame(players_data)"
   ]
  },
  {
   "cell_type": "code",
   "execution_count": 53,
   "metadata": {},
   "outputs": [
    {
     "data": {
      "text/plain": [
       "(12, 3)"
      ]
     },
     "execution_count": 53,
     "metadata": {},
     "output_type": "execute_result"
    }
   ],
   "source": [
    "player_df.shape"
   ]
  },
  {
   "cell_type": "code",
   "execution_count": 52,
   "metadata": {},
   "outputs": [
    {
     "data": {
      "text/html": [
       "<div>\n",
       "<style scoped>\n",
       "    .dataframe tbody tr th:only-of-type {\n",
       "        vertical-align: middle;\n",
       "    }\n",
       "\n",
       "    .dataframe tbody tr th {\n",
       "        vertical-align: top;\n",
       "    }\n",
       "\n",
       "    .dataframe thead th {\n",
       "        text-align: right;\n",
       "    }\n",
       "</style>\n",
       "<table border=\"1\" class=\"dataframe\">\n",
       "  <thead>\n",
       "    <tr style=\"text-align: right;\">\n",
       "      <th></th>\n",
       "      <th>Player</th>\n",
       "      <th>Year</th>\n",
       "      <th>Points</th>\n",
       "    </tr>\n",
       "  </thead>\n",
       "  <tbody>\n",
       "    <tr>\n",
       "      <td>0</td>\n",
       "      <td>Superman</td>\n",
       "      <td>2000</td>\n",
       "      <td>23</td>\n",
       "    </tr>\n",
       "    <tr>\n",
       "      <td>1</td>\n",
       "      <td>Batman</td>\n",
       "      <td>2000</td>\n",
       "      <td>43</td>\n",
       "    </tr>\n",
       "    <tr>\n",
       "      <td>2</td>\n",
       "      <td>Thanos</td>\n",
       "      <td>2000</td>\n",
       "      <td>45</td>\n",
       "    </tr>\n",
       "    <tr>\n",
       "      <td>3</td>\n",
       "      <td>Batman</td>\n",
       "      <td>2001</td>\n",
       "      <td>65</td>\n",
       "    </tr>\n",
       "    <tr>\n",
       "      <td>4</td>\n",
       "      <td>Thanos</td>\n",
       "      <td>2001</td>\n",
       "      <td>76</td>\n",
       "    </tr>\n",
       "  </tbody>\n",
       "</table>\n",
       "</div>"
      ],
      "text/plain": [
       "     Player  Year  Points\n",
       "0  Superman  2000      23\n",
       "1    Batman  2000      43\n",
       "2    Thanos  2000      45\n",
       "3    Batman  2001      65\n",
       "4    Thanos  2001      76"
      ]
     },
     "execution_count": 52,
     "metadata": {},
     "output_type": "execute_result"
    }
   ],
   "source": [
    "player_df.head()"
   ]
  },
  {
   "cell_type": "markdown",
   "metadata": {},
   "source": [
    "## Transpose : waps a DataFrame’s rows with its columns. "
   ]
  },
  {
   "cell_type": "code",
   "execution_count": 54,
   "metadata": {},
   "outputs": [],
   "source": [
    "player_df_t = player_df.T"
   ]
  },
  {
   "cell_type": "code",
   "execution_count": 56,
   "metadata": {},
   "outputs": [
    {
     "data": {
      "text/plain": [
       "(3, 12)"
      ]
     },
     "execution_count": 56,
     "metadata": {},
     "output_type": "execute_result"
    }
   ],
   "source": [
    "player_df_t.shape"
   ]
  },
  {
   "cell_type": "code",
   "execution_count": 55,
   "metadata": {},
   "outputs": [
    {
     "data": {
      "text/html": [
       "<div>\n",
       "<style scoped>\n",
       "    .dataframe tbody tr th:only-of-type {\n",
       "        vertical-align: middle;\n",
       "    }\n",
       "\n",
       "    .dataframe tbody tr th {\n",
       "        vertical-align: top;\n",
       "    }\n",
       "\n",
       "    .dataframe thead th {\n",
       "        text-align: right;\n",
       "    }\n",
       "</style>\n",
       "<table border=\"1\" class=\"dataframe\">\n",
       "  <thead>\n",
       "    <tr style=\"text-align: right;\">\n",
       "      <th></th>\n",
       "      <th>0</th>\n",
       "      <th>1</th>\n",
       "      <th>2</th>\n",
       "      <th>3</th>\n",
       "      <th>4</th>\n",
       "      <th>5</th>\n",
       "      <th>6</th>\n",
       "      <th>7</th>\n",
       "      <th>8</th>\n",
       "      <th>9</th>\n",
       "      <th>10</th>\n",
       "      <th>11</th>\n",
       "    </tr>\n",
       "  </thead>\n",
       "  <tbody>\n",
       "    <tr>\n",
       "      <td>Player</td>\n",
       "      <td>Superman</td>\n",
       "      <td>Batman</td>\n",
       "      <td>Thanos</td>\n",
       "      <td>Batman</td>\n",
       "      <td>Thanos</td>\n",
       "      <td>Superman</td>\n",
       "      <td>Batman</td>\n",
       "      <td>Thanos</td>\n",
       "      <td>Black Widow</td>\n",
       "      <td>Batman</td>\n",
       "      <td>Thanos</td>\n",
       "      <td>Superman</td>\n",
       "    </tr>\n",
       "    <tr>\n",
       "      <td>Year</td>\n",
       "      <td>2000</td>\n",
       "      <td>2000</td>\n",
       "      <td>2000</td>\n",
       "      <td>2001</td>\n",
       "      <td>2001</td>\n",
       "      <td>2002</td>\n",
       "      <td>2002</td>\n",
       "      <td>2002</td>\n",
       "      <td>2003</td>\n",
       "      <td>2004</td>\n",
       "      <td>2004</td>\n",
       "      <td>2005</td>\n",
       "    </tr>\n",
       "    <tr>\n",
       "      <td>Points</td>\n",
       "      <td>23</td>\n",
       "      <td>43</td>\n",
       "      <td>45</td>\n",
       "      <td>65</td>\n",
       "      <td>76</td>\n",
       "      <td>34</td>\n",
       "      <td>23</td>\n",
       "      <td>78</td>\n",
       "      <td>89</td>\n",
       "      <td>76</td>\n",
       "      <td>92</td>\n",
       "      <td>87</td>\n",
       "    </tr>\n",
       "  </tbody>\n",
       "</table>\n",
       "</div>"
      ],
      "text/plain": [
       "               0       1       2       3       4         5       6       7  \\\n",
       "Player  Superman  Batman  Thanos  Batman  Thanos  Superman  Batman  Thanos   \n",
       "Year        2000    2000    2000    2001    2001      2002    2002    2002   \n",
       "Points        23      43      45      65      76        34      23      78   \n",
       "\n",
       "                  8       9      10        11  \n",
       "Player  Black Widow  Batman  Thanos  Superman  \n",
       "Year           2003    2004    2004      2005  \n",
       "Points           89      76      92        87  "
      ]
     },
     "execution_count": 55,
     "metadata": {},
     "output_type": "execute_result"
    }
   ],
   "source": [
    "player_df_t.head()"
   ]
  },
  {
   "cell_type": "markdown",
   "metadata": {},
   "source": [
    "## Groupby: Groupby’s main usage is to split up DataFrames into multiple parts based on some keys. Once the DataFrame is split up into parts, you can loop through and apply some operations on each part independently."
   ]
  },
  {
   "cell_type": "code",
   "execution_count": 58,
   "metadata": {},
   "outputs": [],
   "source": [
    "emp_dept_group = emp_dept_df.groupby(\"DeptID\")"
   ]
  },
  {
   "cell_type": "code",
   "execution_count": 62,
   "metadata": {},
   "outputs": [
    {
     "name": "stdout",
     "output_type": "stream",
     "text": [
      "----- 1000 -----\n",
      "          EmpID      Employee_Name  DeptID  PayRate                  Name  \\\n",
      "900  1107027358    Andreola, Colby    1005    47.60  Software Engineering   \n",
      "901  1101023577   Carabbio, Judith    1005    56.00  Software Engineering   \n",
      "902  1203032498  Del Bosque, Keyla    1005    57.12  Software Engineering   \n",
      "903  1401064670     Exantus, Susan    1005    48.50  Software Engineering   \n",
      "904  1303054625     Martin, Sandra    1005    55.51  Software Engineering   \n",
      "905  1112030979    Patronick, Luke    1005    52.25  Software Engineering   \n",
      "906  1012023185       Saada, Adell    1005    49.25  Software Engineering   \n",
      "907  1201031324      Szabo, Andrew    1005    48.00  Software Engineering   \n",
      "908  1102024057       True, Edward    1005    45.42  Software Engineering   \n",
      "909  1001644719   Sweetwater, Alex    1005    27.00  Software Engineering   \n",
      "910  1107027358    Andreola, Colby    1005    47.60  Software Engineering   \n",
      "911  1101023577   Carabbio, Judith    1005    56.00  Software Engineering   \n",
      "912  1203032498  Del Bosque, Keyla    1005    57.12  Software Engineering   \n",
      "913  1401064670     Exantus, Susan    1005    48.50  Software Engineering   \n",
      "914  1303054625     Martin, Sandra    1005    55.51  Software Engineering   \n",
      "915  1112030979    Patronick, Luke    1005    52.25  Software Engineering   \n",
      "916  1012023185       Saada, Adell    1005    49.25  Software Engineering   \n",
      "917  1201031324      Szabo, Andrew    1005    48.00  Software Engineering   \n",
      "918  1102024057       True, Edward    1005    45.42  Software Engineering   \n",
      "919  1001644719   Sweetwater, Alex    1005    27.00  Software Engineering   \n",
      "920  1107027358    Andreola, Colby    1005    47.60  Software Engineering   \n",
      "921  1101023577   Carabbio, Judith    1005    56.00  Software Engineering   \n",
      "922  1203032498  Del Bosque, Keyla    1005    57.12  Software Engineering   \n",
      "923  1401064670     Exantus, Susan    1005    48.50  Software Engineering   \n",
      "924  1303054625     Martin, Sandra    1005    55.51  Software Engineering   \n",
      "925  1112030979    Patronick, Luke    1005    52.25  Software Engineering   \n",
      "926  1012023185       Saada, Adell    1005    49.25  Software Engineering   \n",
      "927  1201031324      Szabo, Andrew    1005    48.00  Software Engineering   \n",
      "928  1102024057       True, Edward    1005    45.42  Software Engineering   \n",
      "929  1001644719   Sweetwater, Alex    1005    27.00  Software Engineering   \n",
      "\n",
      "     Status                                  Purpose Establishment_Date  \n",
      "900  Active  Applying the SDLC agile metholodiegies.          11-Jun-13  \n",
      "901  Active  Applying the SDLC agile metholodiegies.          11-Jun-13  \n",
      "902  Active  Applying the SDLC agile metholodiegies.          11-Jun-13  \n",
      "903  Active  Applying the SDLC agile metholodiegies.          11-Jun-13  \n",
      "904  Active  Applying the SDLC agile metholodiegies.          11-Jun-13  \n",
      "905  Active  Applying the SDLC agile metholodiegies.          11-Jun-13  \n",
      "906  Active  Applying the SDLC agile metholodiegies.          11-Jun-13  \n",
      "907  Active  Applying the SDLC agile metholodiegies.          11-Jun-13  \n",
      "908  Active  Applying the SDLC agile metholodiegies.          11-Jun-13  \n",
      "909  Active  Applying the SDLC agile metholodiegies.          11-Jun-13  \n",
      "910  Active  Applying the SDLC agile metholodiegies.          11-Jun-13  \n",
      "911  Active  Applying the SDLC agile metholodiegies.          11-Jun-13  \n",
      "912  Active  Applying the SDLC agile metholodiegies.          11-Jun-13  \n",
      "913  Active  Applying the SDLC agile metholodiegies.          11-Jun-13  \n",
      "914  Active  Applying the SDLC agile metholodiegies.          11-Jun-13  \n",
      "915  Active  Applying the SDLC agile metholodiegies.          11-Jun-13  \n",
      "916  Active  Applying the SDLC agile metholodiegies.          11-Jun-13  \n",
      "917  Active  Applying the SDLC agile metholodiegies.          11-Jun-13  \n",
      "918  Active  Applying the SDLC agile metholodiegies.          11-Jun-13  \n",
      "919  Active  Applying the SDLC agile metholodiegies.          11-Jun-13  \n",
      "920  Active  Applying the SDLC agile metholodiegies.          11-Jun-13  \n",
      "921  Active  Applying the SDLC agile metholodiegies.          11-Jun-13  \n",
      "922  Active  Applying the SDLC agile metholodiegies.          11-Jun-13  \n",
      "923  Active  Applying the SDLC agile metholodiegies.          11-Jun-13  \n",
      "924  Active  Applying the SDLC agile metholodiegies.          11-Jun-13  \n",
      "925  Active  Applying the SDLC agile metholodiegies.          11-Jun-13  \n",
      "926  Active  Applying the SDLC agile metholodiegies.          11-Jun-13  \n",
      "927  Active  Applying the SDLC agile metholodiegies.          11-Jun-13  \n",
      "928  Active  Applying the SDLC agile metholodiegies.          11-Jun-13  \n",
      "929  Active  Applying the SDLC agile metholodiegies.          11-Jun-13  \n",
      "\n",
      "----- 1001 -----\n",
      "          EmpID      Employee_Name  DeptID  PayRate                  Name  \\\n",
      "900  1107027358    Andreola, Colby    1005    47.60  Software Engineering   \n",
      "901  1101023577   Carabbio, Judith    1005    56.00  Software Engineering   \n",
      "902  1203032498  Del Bosque, Keyla    1005    57.12  Software Engineering   \n",
      "903  1401064670     Exantus, Susan    1005    48.50  Software Engineering   \n",
      "904  1303054625     Martin, Sandra    1005    55.51  Software Engineering   \n",
      "905  1112030979    Patronick, Luke    1005    52.25  Software Engineering   \n",
      "906  1012023185       Saada, Adell    1005    49.25  Software Engineering   \n",
      "907  1201031324      Szabo, Andrew    1005    48.00  Software Engineering   \n",
      "908  1102024057       True, Edward    1005    45.42  Software Engineering   \n",
      "909  1001644719   Sweetwater, Alex    1005    27.00  Software Engineering   \n",
      "910  1107027358    Andreola, Colby    1005    47.60  Software Engineering   \n",
      "911  1101023577   Carabbio, Judith    1005    56.00  Software Engineering   \n",
      "912  1203032498  Del Bosque, Keyla    1005    57.12  Software Engineering   \n",
      "913  1401064670     Exantus, Susan    1005    48.50  Software Engineering   \n",
      "914  1303054625     Martin, Sandra    1005    55.51  Software Engineering   \n",
      "915  1112030979    Patronick, Luke    1005    52.25  Software Engineering   \n",
      "916  1012023185       Saada, Adell    1005    49.25  Software Engineering   \n",
      "917  1201031324      Szabo, Andrew    1005    48.00  Software Engineering   \n",
      "918  1102024057       True, Edward    1005    45.42  Software Engineering   \n",
      "919  1001644719   Sweetwater, Alex    1005    27.00  Software Engineering   \n",
      "920  1107027358    Andreola, Colby    1005    47.60  Software Engineering   \n",
      "921  1101023577   Carabbio, Judith    1005    56.00  Software Engineering   \n",
      "922  1203032498  Del Bosque, Keyla    1005    57.12  Software Engineering   \n",
      "923  1401064670     Exantus, Susan    1005    48.50  Software Engineering   \n",
      "924  1303054625     Martin, Sandra    1005    55.51  Software Engineering   \n",
      "925  1112030979    Patronick, Luke    1005    52.25  Software Engineering   \n",
      "926  1012023185       Saada, Adell    1005    49.25  Software Engineering   \n",
      "927  1201031324      Szabo, Andrew    1005    48.00  Software Engineering   \n",
      "928  1102024057       True, Edward    1005    45.42  Software Engineering   \n",
      "929  1001644719   Sweetwater, Alex    1005    27.00  Software Engineering   \n",
      "\n",
      "     Status                                  Purpose Establishment_Date  \n",
      "900  Active  Applying the SDLC agile metholodiegies.          11-Jun-13  \n",
      "901  Active  Applying the SDLC agile metholodiegies.          11-Jun-13  \n",
      "902  Active  Applying the SDLC agile metholodiegies.          11-Jun-13  \n",
      "903  Active  Applying the SDLC agile metholodiegies.          11-Jun-13  \n",
      "904  Active  Applying the SDLC agile metholodiegies.          11-Jun-13  \n",
      "905  Active  Applying the SDLC agile metholodiegies.          11-Jun-13  \n",
      "906  Active  Applying the SDLC agile metholodiegies.          11-Jun-13  \n",
      "907  Active  Applying the SDLC agile metholodiegies.          11-Jun-13  \n",
      "908  Active  Applying the SDLC agile metholodiegies.          11-Jun-13  \n",
      "909  Active  Applying the SDLC agile metholodiegies.          11-Jun-13  \n",
      "910  Active  Applying the SDLC agile metholodiegies.          11-Jun-13  \n",
      "911  Active  Applying the SDLC agile metholodiegies.          11-Jun-13  \n",
      "912  Active  Applying the SDLC agile metholodiegies.          11-Jun-13  \n",
      "913  Active  Applying the SDLC agile metholodiegies.          11-Jun-13  \n",
      "914  Active  Applying the SDLC agile metholodiegies.          11-Jun-13  \n",
      "915  Active  Applying the SDLC agile metholodiegies.          11-Jun-13  \n",
      "916  Active  Applying the SDLC agile metholodiegies.          11-Jun-13  \n",
      "917  Active  Applying the SDLC agile metholodiegies.          11-Jun-13  \n",
      "918  Active  Applying the SDLC agile metholodiegies.          11-Jun-13  \n",
      "919  Active  Applying the SDLC agile metholodiegies.          11-Jun-13  \n",
      "920  Active  Applying the SDLC agile metholodiegies.          11-Jun-13  \n",
      "921  Active  Applying the SDLC agile metholodiegies.          11-Jun-13  \n",
      "922  Active  Applying the SDLC agile metholodiegies.          11-Jun-13  \n",
      "923  Active  Applying the SDLC agile metholodiegies.          11-Jun-13  \n",
      "924  Active  Applying the SDLC agile metholodiegies.          11-Jun-13  \n",
      "925  Active  Applying the SDLC agile metholodiegies.          11-Jun-13  \n",
      "926  Active  Applying the SDLC agile metholodiegies.          11-Jun-13  \n",
      "927  Active  Applying the SDLC agile metholodiegies.          11-Jun-13  \n",
      "928  Active  Applying the SDLC agile metholodiegies.          11-Jun-13  \n",
      "929  Active  Applying the SDLC agile metholodiegies.          11-Jun-13  \n",
      "\n",
      "----- 1002 -----\n",
      "          EmpID      Employee_Name  DeptID  PayRate                  Name  \\\n",
      "900  1107027358    Andreola, Colby    1005    47.60  Software Engineering   \n",
      "901  1101023577   Carabbio, Judith    1005    56.00  Software Engineering   \n",
      "902  1203032498  Del Bosque, Keyla    1005    57.12  Software Engineering   \n",
      "903  1401064670     Exantus, Susan    1005    48.50  Software Engineering   \n",
      "904  1303054625     Martin, Sandra    1005    55.51  Software Engineering   \n",
      "905  1112030979    Patronick, Luke    1005    52.25  Software Engineering   \n",
      "906  1012023185       Saada, Adell    1005    49.25  Software Engineering   \n",
      "907  1201031324      Szabo, Andrew    1005    48.00  Software Engineering   \n",
      "908  1102024057       True, Edward    1005    45.42  Software Engineering   \n",
      "909  1001644719   Sweetwater, Alex    1005    27.00  Software Engineering   \n",
      "910  1107027358    Andreola, Colby    1005    47.60  Software Engineering   \n",
      "911  1101023577   Carabbio, Judith    1005    56.00  Software Engineering   \n",
      "912  1203032498  Del Bosque, Keyla    1005    57.12  Software Engineering   \n",
      "913  1401064670     Exantus, Susan    1005    48.50  Software Engineering   \n",
      "914  1303054625     Martin, Sandra    1005    55.51  Software Engineering   \n",
      "915  1112030979    Patronick, Luke    1005    52.25  Software Engineering   \n",
      "916  1012023185       Saada, Adell    1005    49.25  Software Engineering   \n",
      "917  1201031324      Szabo, Andrew    1005    48.00  Software Engineering   \n",
      "918  1102024057       True, Edward    1005    45.42  Software Engineering   \n",
      "919  1001644719   Sweetwater, Alex    1005    27.00  Software Engineering   \n",
      "920  1107027358    Andreola, Colby    1005    47.60  Software Engineering   \n",
      "921  1101023577   Carabbio, Judith    1005    56.00  Software Engineering   \n",
      "922  1203032498  Del Bosque, Keyla    1005    57.12  Software Engineering   \n",
      "923  1401064670     Exantus, Susan    1005    48.50  Software Engineering   \n",
      "924  1303054625     Martin, Sandra    1005    55.51  Software Engineering   \n",
      "925  1112030979    Patronick, Luke    1005    52.25  Software Engineering   \n",
      "926  1012023185       Saada, Adell    1005    49.25  Software Engineering   \n",
      "927  1201031324      Szabo, Andrew    1005    48.00  Software Engineering   \n",
      "928  1102024057       True, Edward    1005    45.42  Software Engineering   \n",
      "929  1001644719   Sweetwater, Alex    1005    27.00  Software Engineering   \n",
      "\n",
      "     Status                                  Purpose Establishment_Date  \n",
      "900  Active  Applying the SDLC agile metholodiegies.          11-Jun-13  \n",
      "901  Active  Applying the SDLC agile metholodiegies.          11-Jun-13  \n",
      "902  Active  Applying the SDLC agile metholodiegies.          11-Jun-13  \n",
      "903  Active  Applying the SDLC agile metholodiegies.          11-Jun-13  \n",
      "904  Active  Applying the SDLC agile metholodiegies.          11-Jun-13  \n",
      "905  Active  Applying the SDLC agile metholodiegies.          11-Jun-13  \n",
      "906  Active  Applying the SDLC agile metholodiegies.          11-Jun-13  \n",
      "907  Active  Applying the SDLC agile metholodiegies.          11-Jun-13  \n",
      "908  Active  Applying the SDLC agile metholodiegies.          11-Jun-13  \n",
      "909  Active  Applying the SDLC agile metholodiegies.          11-Jun-13  \n",
      "910  Active  Applying the SDLC agile metholodiegies.          11-Jun-13  \n",
      "911  Active  Applying the SDLC agile metholodiegies.          11-Jun-13  \n",
      "912  Active  Applying the SDLC agile metholodiegies.          11-Jun-13  \n",
      "913  Active  Applying the SDLC agile metholodiegies.          11-Jun-13  \n",
      "914  Active  Applying the SDLC agile metholodiegies.          11-Jun-13  \n",
      "915  Active  Applying the SDLC agile metholodiegies.          11-Jun-13  \n",
      "916  Active  Applying the SDLC agile metholodiegies.          11-Jun-13  \n",
      "917  Active  Applying the SDLC agile metholodiegies.          11-Jun-13  \n",
      "918  Active  Applying the SDLC agile metholodiegies.          11-Jun-13  \n",
      "919  Active  Applying the SDLC agile metholodiegies.          11-Jun-13  \n",
      "920  Active  Applying the SDLC agile metholodiegies.          11-Jun-13  \n",
      "921  Active  Applying the SDLC agile metholodiegies.          11-Jun-13  \n",
      "922  Active  Applying the SDLC agile metholodiegies.          11-Jun-13  \n",
      "923  Active  Applying the SDLC agile metholodiegies.          11-Jun-13  \n",
      "924  Active  Applying the SDLC agile metholodiegies.          11-Jun-13  \n",
      "925  Active  Applying the SDLC agile metholodiegies.          11-Jun-13  \n",
      "926  Active  Applying the SDLC agile metholodiegies.          11-Jun-13  \n",
      "927  Active  Applying the SDLC agile metholodiegies.          11-Jun-13  \n",
      "928  Active  Applying the SDLC agile metholodiegies.          11-Jun-13  \n",
      "929  Active  Applying the SDLC agile metholodiegies.          11-Jun-13  \n",
      "\n",
      "----- 1003 -----\n",
      "          EmpID      Employee_Name  DeptID  PayRate                  Name  \\\n",
      "900  1107027358    Andreola, Colby    1005    47.60  Software Engineering   \n",
      "901  1101023577   Carabbio, Judith    1005    56.00  Software Engineering   \n",
      "902  1203032498  Del Bosque, Keyla    1005    57.12  Software Engineering   \n",
      "903  1401064670     Exantus, Susan    1005    48.50  Software Engineering   \n",
      "904  1303054625     Martin, Sandra    1005    55.51  Software Engineering   \n",
      "905  1112030979    Patronick, Luke    1005    52.25  Software Engineering   \n",
      "906  1012023185       Saada, Adell    1005    49.25  Software Engineering   \n",
      "907  1201031324      Szabo, Andrew    1005    48.00  Software Engineering   \n",
      "908  1102024057       True, Edward    1005    45.42  Software Engineering   \n",
      "909  1001644719   Sweetwater, Alex    1005    27.00  Software Engineering   \n",
      "910  1107027358    Andreola, Colby    1005    47.60  Software Engineering   \n",
      "911  1101023577   Carabbio, Judith    1005    56.00  Software Engineering   \n",
      "912  1203032498  Del Bosque, Keyla    1005    57.12  Software Engineering   \n",
      "913  1401064670     Exantus, Susan    1005    48.50  Software Engineering   \n",
      "914  1303054625     Martin, Sandra    1005    55.51  Software Engineering   \n",
      "915  1112030979    Patronick, Luke    1005    52.25  Software Engineering   \n",
      "916  1012023185       Saada, Adell    1005    49.25  Software Engineering   \n",
      "917  1201031324      Szabo, Andrew    1005    48.00  Software Engineering   \n",
      "918  1102024057       True, Edward    1005    45.42  Software Engineering   \n",
      "919  1001644719   Sweetwater, Alex    1005    27.00  Software Engineering   \n",
      "920  1107027358    Andreola, Colby    1005    47.60  Software Engineering   \n",
      "921  1101023577   Carabbio, Judith    1005    56.00  Software Engineering   \n",
      "922  1203032498  Del Bosque, Keyla    1005    57.12  Software Engineering   \n",
      "923  1401064670     Exantus, Susan    1005    48.50  Software Engineering   \n",
      "924  1303054625     Martin, Sandra    1005    55.51  Software Engineering   \n",
      "925  1112030979    Patronick, Luke    1005    52.25  Software Engineering   \n",
      "926  1012023185       Saada, Adell    1005    49.25  Software Engineering   \n",
      "927  1201031324      Szabo, Andrew    1005    48.00  Software Engineering   \n",
      "928  1102024057       True, Edward    1005    45.42  Software Engineering   \n",
      "929  1001644719   Sweetwater, Alex    1005    27.00  Software Engineering   \n",
      "\n",
      "     Status                                  Purpose Establishment_Date  \n",
      "900  Active  Applying the SDLC agile metholodiegies.          11-Jun-13  \n",
      "901  Active  Applying the SDLC agile metholodiegies.          11-Jun-13  \n",
      "902  Active  Applying the SDLC agile metholodiegies.          11-Jun-13  \n",
      "903  Active  Applying the SDLC agile metholodiegies.          11-Jun-13  \n",
      "904  Active  Applying the SDLC agile metholodiegies.          11-Jun-13  \n",
      "905  Active  Applying the SDLC agile metholodiegies.          11-Jun-13  \n",
      "906  Active  Applying the SDLC agile metholodiegies.          11-Jun-13  \n",
      "907  Active  Applying the SDLC agile metholodiegies.          11-Jun-13  \n",
      "908  Active  Applying the SDLC agile metholodiegies.          11-Jun-13  \n",
      "909  Active  Applying the SDLC agile metholodiegies.          11-Jun-13  \n",
      "910  Active  Applying the SDLC agile metholodiegies.          11-Jun-13  \n",
      "911  Active  Applying the SDLC agile metholodiegies.          11-Jun-13  \n",
      "912  Active  Applying the SDLC agile metholodiegies.          11-Jun-13  \n",
      "913  Active  Applying the SDLC agile metholodiegies.          11-Jun-13  \n",
      "914  Active  Applying the SDLC agile metholodiegies.          11-Jun-13  \n",
      "915  Active  Applying the SDLC agile metholodiegies.          11-Jun-13  \n",
      "916  Active  Applying the SDLC agile metholodiegies.          11-Jun-13  \n",
      "917  Active  Applying the SDLC agile metholodiegies.          11-Jun-13  \n",
      "918  Active  Applying the SDLC agile metholodiegies.          11-Jun-13  \n",
      "919  Active  Applying the SDLC agile metholodiegies.          11-Jun-13  \n",
      "920  Active  Applying the SDLC agile metholodiegies.          11-Jun-13  \n",
      "921  Active  Applying the SDLC agile metholodiegies.          11-Jun-13  \n",
      "922  Active  Applying the SDLC agile metholodiegies.          11-Jun-13  \n",
      "923  Active  Applying the SDLC agile metholodiegies.          11-Jun-13  \n",
      "924  Active  Applying the SDLC agile metholodiegies.          11-Jun-13  \n",
      "925  Active  Applying the SDLC agile metholodiegies.          11-Jun-13  \n",
      "926  Active  Applying the SDLC agile metholodiegies.          11-Jun-13  \n",
      "927  Active  Applying the SDLC agile metholodiegies.          11-Jun-13  \n",
      "928  Active  Applying the SDLC agile metholodiegies.          11-Jun-13  \n",
      "929  Active  Applying the SDLC agile metholodiegies.          11-Jun-13  \n",
      "\n",
      "----- 1005 -----\n",
      "          EmpID      Employee_Name  DeptID  PayRate                  Name  \\\n",
      "900  1107027358    Andreola, Colby    1005    47.60  Software Engineering   \n",
      "901  1101023577   Carabbio, Judith    1005    56.00  Software Engineering   \n",
      "902  1203032498  Del Bosque, Keyla    1005    57.12  Software Engineering   \n",
      "903  1401064670     Exantus, Susan    1005    48.50  Software Engineering   \n",
      "904  1303054625     Martin, Sandra    1005    55.51  Software Engineering   \n",
      "905  1112030979    Patronick, Luke    1005    52.25  Software Engineering   \n",
      "906  1012023185       Saada, Adell    1005    49.25  Software Engineering   \n",
      "907  1201031324      Szabo, Andrew    1005    48.00  Software Engineering   \n",
      "908  1102024057       True, Edward    1005    45.42  Software Engineering   \n",
      "909  1001644719   Sweetwater, Alex    1005    27.00  Software Engineering   \n",
      "910  1107027358    Andreola, Colby    1005    47.60  Software Engineering   \n",
      "911  1101023577   Carabbio, Judith    1005    56.00  Software Engineering   \n",
      "912  1203032498  Del Bosque, Keyla    1005    57.12  Software Engineering   \n",
      "913  1401064670     Exantus, Susan    1005    48.50  Software Engineering   \n",
      "914  1303054625     Martin, Sandra    1005    55.51  Software Engineering   \n",
      "915  1112030979    Patronick, Luke    1005    52.25  Software Engineering   \n",
      "916  1012023185       Saada, Adell    1005    49.25  Software Engineering   \n",
      "917  1201031324      Szabo, Andrew    1005    48.00  Software Engineering   \n",
      "918  1102024057       True, Edward    1005    45.42  Software Engineering   \n",
      "919  1001644719   Sweetwater, Alex    1005    27.00  Software Engineering   \n",
      "920  1107027358    Andreola, Colby    1005    47.60  Software Engineering   \n",
      "921  1101023577   Carabbio, Judith    1005    56.00  Software Engineering   \n",
      "922  1203032498  Del Bosque, Keyla    1005    57.12  Software Engineering   \n",
      "923  1401064670     Exantus, Susan    1005    48.50  Software Engineering   \n",
      "924  1303054625     Martin, Sandra    1005    55.51  Software Engineering   \n",
      "925  1112030979    Patronick, Luke    1005    52.25  Software Engineering   \n",
      "926  1012023185       Saada, Adell    1005    49.25  Software Engineering   \n",
      "927  1201031324      Szabo, Andrew    1005    48.00  Software Engineering   \n",
      "928  1102024057       True, Edward    1005    45.42  Software Engineering   \n",
      "929  1001644719   Sweetwater, Alex    1005    27.00  Software Engineering   \n",
      "\n",
      "     Status                                  Purpose Establishment_Date  \n",
      "900  Active  Applying the SDLC agile metholodiegies.          11-Jun-13  \n",
      "901  Active  Applying the SDLC agile metholodiegies.          11-Jun-13  \n",
      "902  Active  Applying the SDLC agile metholodiegies.          11-Jun-13  \n",
      "903  Active  Applying the SDLC agile metholodiegies.          11-Jun-13  \n",
      "904  Active  Applying the SDLC agile metholodiegies.          11-Jun-13  \n",
      "905  Active  Applying the SDLC agile metholodiegies.          11-Jun-13  \n",
      "906  Active  Applying the SDLC agile metholodiegies.          11-Jun-13  \n",
      "907  Active  Applying the SDLC agile metholodiegies.          11-Jun-13  \n",
      "908  Active  Applying the SDLC agile metholodiegies.          11-Jun-13  \n",
      "909  Active  Applying the SDLC agile metholodiegies.          11-Jun-13  \n",
      "910  Active  Applying the SDLC agile metholodiegies.          11-Jun-13  \n",
      "911  Active  Applying the SDLC agile metholodiegies.          11-Jun-13  \n",
      "912  Active  Applying the SDLC agile metholodiegies.          11-Jun-13  \n",
      "913  Active  Applying the SDLC agile metholodiegies.          11-Jun-13  \n",
      "914  Active  Applying the SDLC agile metholodiegies.          11-Jun-13  \n",
      "915  Active  Applying the SDLC agile metholodiegies.          11-Jun-13  \n",
      "916  Active  Applying the SDLC agile metholodiegies.          11-Jun-13  \n",
      "917  Active  Applying the SDLC agile metholodiegies.          11-Jun-13  \n",
      "918  Active  Applying the SDLC agile metholodiegies.          11-Jun-13  \n",
      "919  Active  Applying the SDLC agile metholodiegies.          11-Jun-13  \n",
      "920  Active  Applying the SDLC agile metholodiegies.          11-Jun-13  \n",
      "921  Active  Applying the SDLC agile metholodiegies.          11-Jun-13  \n",
      "922  Active  Applying the SDLC agile metholodiegies.          11-Jun-13  \n",
      "923  Active  Applying the SDLC agile metholodiegies.          11-Jun-13  \n",
      "924  Active  Applying the SDLC agile metholodiegies.          11-Jun-13  \n",
      "925  Active  Applying the SDLC agile metholodiegies.          11-Jun-13  \n",
      "926  Active  Applying the SDLC agile metholodiegies.          11-Jun-13  \n",
      "927  Active  Applying the SDLC agile metholodiegies.          11-Jun-13  \n",
      "928  Active  Applying the SDLC agile metholodiegies.          11-Jun-13  \n",
      "929  Active  Applying the SDLC agile metholodiegies.          11-Jun-13  \n",
      "\n"
     ]
    }
   ],
   "source": [
    "for deptID,rec in emp_dept_group:\n",
    "    print(\"----- {} -----\".format(deptID))\n",
    "    print(group)\n",
    "    print(\"\")"
   ]
  },
  {
   "cell_type": "markdown",
   "metadata": {},
   "source": [
    "## Stacking: Stacking transforms the DataFrame into having a multi-level index, i.e each row has multiple sub-parts."
   ]
  },
  {
   "cell_type": "code",
   "execution_count": 70,
   "metadata": {},
   "outputs": [
    {
     "data": {
      "text/plain": [
       "0  EmpID                       1103024456\n",
       "   Employee_Name               Brown, Mia\n",
       "   DeptID                            1000\n",
       "   PayRate                           28.5\n",
       "   Name                     Admin Offices\n",
       "   Status                          Active\n",
       "   Purpose               Admin Activities\n",
       "   Establishment_Date            6-Jun-10\n",
       "dtype: object"
      ]
     },
     "execution_count": 70,
     "metadata": {},
     "output_type": "execute_result"
    }
   ],
   "source": [
    "emp_dept_df.head(1).stack()"
   ]
  },
  {
   "cell_type": "code",
   "execution_count": 71,
   "metadata": {},
   "outputs": [],
   "source": [
    "emp_dept_df_stack = emp_dept_df.stack()"
   ]
  },
  {
   "cell_type": "code",
   "execution_count": 72,
   "metadata": {},
   "outputs": [
    {
     "data": {
      "text/plain": [
       "0    EmpID                                              1103024456\n",
       "     Employee_Name                                      Brown, Mia\n",
       "     DeptID                                                   1000\n",
       "     PayRate                                                  28.5\n",
       "     Name                                            Admin Offices\n",
       "                                            ...                   \n",
       "929  PayRate                                                    27\n",
       "     Name                                     Software Engineering\n",
       "     Status                                                 Active\n",
       "     Purpose               Applying the SDLC agile metholodiegies.\n",
       "     Establishment_Date                                  11-Jun-13\n",
       "Length: 7440, dtype: object"
      ]
     },
     "execution_count": 72,
     "metadata": {},
     "output_type": "execute_result"
    }
   ],
   "source": [
    "emp_dept_df_stack"
   ]
  },
  {
   "cell_type": "markdown",
   "metadata": {},
   "source": [
    "## Working with time data"
   ]
  },
  {
   "cell_type": "code",
   "execution_count": null,
   "metadata": {},
   "outputs": [],
   "source": []
  },
  {
   "cell_type": "code",
   "execution_count": 73,
   "metadata": {},
   "outputs": [],
   "source": [
    "from itertools import product"
   ]
  },
  {
   "cell_type": "code",
   "execution_count": 76,
   "metadata": {},
   "outputs": [
    {
     "data": {
      "text/plain": [
       "<itertools.product at 0x202de889318>"
      ]
     },
     "execution_count": 76,
     "metadata": {},
     "output_type": "execute_result"
    }
   ],
   "source": [
    "prod = product([10,11,12],[8,9],[2018,2019])\n",
    "prod"
   ]
  },
  {
   "cell_type": "code",
   "execution_count": 77,
   "metadata": {},
   "outputs": [
    {
     "data": {
      "text/plain": [
       "[(10, 8, 2018),\n",
       " (10, 8, 2019),\n",
       " (10, 9, 2018),\n",
       " (10, 9, 2019),\n",
       " (11, 8, 2018),\n",
       " (11, 8, 2019),\n",
       " (11, 9, 2018),\n",
       " (11, 9, 2019),\n",
       " (12, 8, 2018),\n",
       " (12, 8, 2019),\n",
       " (12, 9, 2018),\n",
       " (12, 9, 2019)]"
      ]
     },
     "execution_count": 77,
     "metadata": {},
     "output_type": "execute_result"
    }
   ],
   "source": [
    "list_prod = list(prod)\n",
    "list_prod"
   ]
  },
  {
   "cell_type": "code",
   "execution_count": 81,
   "metadata": {},
   "outputs": [],
   "source": [
    "col_names = [\"Day\", \"Month\", \"Year\"]\n",
    "df_datetime_test = pd.DataFrame(list_prod, columns=col_names)"
   ]
  },
  {
   "cell_type": "code",
   "execution_count": 82,
   "metadata": {},
   "outputs": [],
   "source": [
    "df_datetime_test['data'] = np.random.randn(len(df_datetime_test))"
   ]
  },
  {
   "cell_type": "code",
   "execution_count": 83,
   "metadata": {},
   "outputs": [
    {
     "data": {
      "text/html": [
       "<div>\n",
       "<style scoped>\n",
       "    .dataframe tbody tr th:only-of-type {\n",
       "        vertical-align: middle;\n",
       "    }\n",
       "\n",
       "    .dataframe tbody tr th {\n",
       "        vertical-align: top;\n",
       "    }\n",
       "\n",
       "    .dataframe thead th {\n",
       "        text-align: right;\n",
       "    }\n",
       "</style>\n",
       "<table border=\"1\" class=\"dataframe\">\n",
       "  <thead>\n",
       "    <tr style=\"text-align: right;\">\n",
       "      <th></th>\n",
       "      <th>Day</th>\n",
       "      <th>Month</th>\n",
       "      <th>Year</th>\n",
       "      <th>test</th>\n",
       "    </tr>\n",
       "  </thead>\n",
       "  <tbody>\n",
       "    <tr>\n",
       "      <td>0</td>\n",
       "      <td>10</td>\n",
       "      <td>8</td>\n",
       "      <td>2018</td>\n",
       "      <td>0.661546</td>\n",
       "    </tr>\n",
       "    <tr>\n",
       "      <td>1</td>\n",
       "      <td>10</td>\n",
       "      <td>8</td>\n",
       "      <td>2019</td>\n",
       "      <td>0.677523</td>\n",
       "    </tr>\n",
       "    <tr>\n",
       "      <td>2</td>\n",
       "      <td>10</td>\n",
       "      <td>9</td>\n",
       "      <td>2018</td>\n",
       "      <td>-1.040435</td>\n",
       "    </tr>\n",
       "    <tr>\n",
       "      <td>3</td>\n",
       "      <td>10</td>\n",
       "      <td>9</td>\n",
       "      <td>2019</td>\n",
       "      <td>1.406658</td>\n",
       "    </tr>\n",
       "    <tr>\n",
       "      <td>4</td>\n",
       "      <td>11</td>\n",
       "      <td>8</td>\n",
       "      <td>2018</td>\n",
       "      <td>0.592008</td>\n",
       "    </tr>\n",
       "  </tbody>\n",
       "</table>\n",
       "</div>"
      ],
      "text/plain": [
       "   Day  Month  Year      test\n",
       "0   10      8  2018  0.661546\n",
       "1   10      8  2019  0.677523\n",
       "2   10      9  2018 -1.040435\n",
       "3   10      9  2019  1.406658\n",
       "4   11      8  2018  0.592008"
      ]
     },
     "execution_count": 83,
     "metadata": {},
     "output_type": "execute_result"
    }
   ],
   "source": [
    "df_datetime_test.head()"
   ]
  },
  {
   "cell_type": "code",
   "execution_count": 86,
   "metadata": {},
   "outputs": [],
   "source": [
    "df_datetime_test.sort_values(['Year','Month'],ascending=[True,True], inplace=True)"
   ]
  },
  {
   "cell_type": "code",
   "execution_count": 87,
   "metadata": {},
   "outputs": [
    {
     "data": {
      "text/html": [
       "<div>\n",
       "<style scoped>\n",
       "    .dataframe tbody tr th:only-of-type {\n",
       "        vertical-align: middle;\n",
       "    }\n",
       "\n",
       "    .dataframe tbody tr th {\n",
       "        vertical-align: top;\n",
       "    }\n",
       "\n",
       "    .dataframe thead th {\n",
       "        text-align: right;\n",
       "    }\n",
       "</style>\n",
       "<table border=\"1\" class=\"dataframe\">\n",
       "  <thead>\n",
       "    <tr style=\"text-align: right;\">\n",
       "      <th></th>\n",
       "      <th>Day</th>\n",
       "      <th>Month</th>\n",
       "      <th>Year</th>\n",
       "      <th>test</th>\n",
       "    </tr>\n",
       "  </thead>\n",
       "  <tbody>\n",
       "    <tr>\n",
       "      <td>0</td>\n",
       "      <td>10</td>\n",
       "      <td>8</td>\n",
       "      <td>2018</td>\n",
       "      <td>0.661546</td>\n",
       "    </tr>\n",
       "    <tr>\n",
       "      <td>4</td>\n",
       "      <td>11</td>\n",
       "      <td>8</td>\n",
       "      <td>2018</td>\n",
       "      <td>0.592008</td>\n",
       "    </tr>\n",
       "    <tr>\n",
       "      <td>8</td>\n",
       "      <td>12</td>\n",
       "      <td>8</td>\n",
       "      <td>2018</td>\n",
       "      <td>1.002725</td>\n",
       "    </tr>\n",
       "    <tr>\n",
       "      <td>2</td>\n",
       "      <td>10</td>\n",
       "      <td>9</td>\n",
       "      <td>2018</td>\n",
       "      <td>-1.040435</td>\n",
       "    </tr>\n",
       "    <tr>\n",
       "      <td>6</td>\n",
       "      <td>11</td>\n",
       "      <td>9</td>\n",
       "      <td>2018</td>\n",
       "      <td>-0.062918</td>\n",
       "    </tr>\n",
       "  </tbody>\n",
       "</table>\n",
       "</div>"
      ],
      "text/plain": [
       "   Day  Month  Year      test\n",
       "0   10      8  2018  0.661546\n",
       "4   11      8  2018  0.592008\n",
       "8   12      8  2018  1.002725\n",
       "2   10      9  2018 -1.040435\n",
       "6   11      9  2018 -0.062918"
      ]
     },
     "execution_count": 87,
     "metadata": {},
     "output_type": "execute_result"
    }
   ],
   "source": [
    "df_datetime_test.head()"
   ]
  },
  {
   "cell_type": "code",
   "execution_count": 88,
   "metadata": {},
   "outputs": [],
   "source": [
    "df_datetime_test.insert(loc=0, column='date', value=pd.to_datetime(df_datetime_test[col_names]))"
   ]
  },
  {
   "cell_type": "code",
   "execution_count": 89,
   "metadata": {},
   "outputs": [
    {
     "data": {
      "text/html": [
       "<div>\n",
       "<style scoped>\n",
       "    .dataframe tbody tr th:only-of-type {\n",
       "        vertical-align: middle;\n",
       "    }\n",
       "\n",
       "    .dataframe tbody tr th {\n",
       "        vertical-align: top;\n",
       "    }\n",
       "\n",
       "    .dataframe thead th {\n",
       "        text-align: right;\n",
       "    }\n",
       "</style>\n",
       "<table border=\"1\" class=\"dataframe\">\n",
       "  <thead>\n",
       "    <tr style=\"text-align: right;\">\n",
       "      <th></th>\n",
       "      <th>date</th>\n",
       "      <th>Day</th>\n",
       "      <th>Month</th>\n",
       "      <th>Year</th>\n",
       "      <th>test</th>\n",
       "    </tr>\n",
       "  </thead>\n",
       "  <tbody>\n",
       "    <tr>\n",
       "      <td>0</td>\n",
       "      <td>2018-08-10</td>\n",
       "      <td>10</td>\n",
       "      <td>8</td>\n",
       "      <td>2018</td>\n",
       "      <td>0.661546</td>\n",
       "    </tr>\n",
       "    <tr>\n",
       "      <td>4</td>\n",
       "      <td>2018-08-11</td>\n",
       "      <td>11</td>\n",
       "      <td>8</td>\n",
       "      <td>2018</td>\n",
       "      <td>0.592008</td>\n",
       "    </tr>\n",
       "    <tr>\n",
       "      <td>8</td>\n",
       "      <td>2018-08-12</td>\n",
       "      <td>12</td>\n",
       "      <td>8</td>\n",
       "      <td>2018</td>\n",
       "      <td>1.002725</td>\n",
       "    </tr>\n",
       "    <tr>\n",
       "      <td>2</td>\n",
       "      <td>2018-09-10</td>\n",
       "      <td>10</td>\n",
       "      <td>9</td>\n",
       "      <td>2018</td>\n",
       "      <td>-1.040435</td>\n",
       "    </tr>\n",
       "    <tr>\n",
       "      <td>6</td>\n",
       "      <td>2018-09-11</td>\n",
       "      <td>11</td>\n",
       "      <td>9</td>\n",
       "      <td>2018</td>\n",
       "      <td>-0.062918</td>\n",
       "    </tr>\n",
       "  </tbody>\n",
       "</table>\n",
       "</div>"
      ],
      "text/plain": [
       "        date  Day  Month  Year      test\n",
       "0 2018-08-10   10      8  2018  0.661546\n",
       "4 2018-08-11   11      8  2018  0.592008\n",
       "8 2018-08-12   12      8  2018  1.002725\n",
       "2 2018-09-10   10      9  2018 -1.040435\n",
       "6 2018-09-11   11      9  2018 -0.062918"
      ]
     },
     "execution_count": 89,
     "metadata": {},
     "output_type": "execute_result"
    }
   ],
   "source": [
    "df_datetime_test.head()"
   ]
  },
  {
   "cell_type": "code",
   "execution_count": 90,
   "metadata": {},
   "outputs": [],
   "source": [
    "df_datetime_test.drop(col_names, axis=1, inplace=True)"
   ]
  },
  {
   "cell_type": "code",
   "execution_count": 91,
   "metadata": {},
   "outputs": [
    {
     "data": {
      "text/html": [
       "<div>\n",
       "<style scoped>\n",
       "    .dataframe tbody tr th:only-of-type {\n",
       "        vertical-align: middle;\n",
       "    }\n",
       "\n",
       "    .dataframe tbody tr th {\n",
       "        vertical-align: top;\n",
       "    }\n",
       "\n",
       "    .dataframe thead th {\n",
       "        text-align: right;\n",
       "    }\n",
       "</style>\n",
       "<table border=\"1\" class=\"dataframe\">\n",
       "  <thead>\n",
       "    <tr style=\"text-align: right;\">\n",
       "      <th></th>\n",
       "      <th>date</th>\n",
       "      <th>test</th>\n",
       "    </tr>\n",
       "  </thead>\n",
       "  <tbody>\n",
       "    <tr>\n",
       "      <td>0</td>\n",
       "      <td>2018-08-10</td>\n",
       "      <td>0.661546</td>\n",
       "    </tr>\n",
       "    <tr>\n",
       "      <td>4</td>\n",
       "      <td>2018-08-11</td>\n",
       "      <td>0.592008</td>\n",
       "    </tr>\n",
       "    <tr>\n",
       "      <td>8</td>\n",
       "      <td>2018-08-12</td>\n",
       "      <td>1.002725</td>\n",
       "    </tr>\n",
       "    <tr>\n",
       "      <td>2</td>\n",
       "      <td>2018-09-10</td>\n",
       "      <td>-1.040435</td>\n",
       "    </tr>\n",
       "    <tr>\n",
       "      <td>6</td>\n",
       "      <td>2018-09-11</td>\n",
       "      <td>-0.062918</td>\n",
       "    </tr>\n",
       "  </tbody>\n",
       "</table>\n",
       "</div>"
      ],
      "text/plain": [
       "        date      test\n",
       "0 2018-08-10  0.661546\n",
       "4 2018-08-11  0.592008\n",
       "8 2018-08-12  1.002725\n",
       "2 2018-09-10 -1.040435\n",
       "6 2018-09-11 -0.062918"
      ]
     },
     "execution_count": 91,
     "metadata": {},
     "output_type": "execute_result"
    }
   ],
   "source": [
    "df_datetime_test.head()"
   ]
  },
  {
   "cell_type": "code",
   "execution_count": 92,
   "metadata": {},
   "outputs": [],
   "source": [
    "df_datetime_test = df_datetime_test.squeeze()"
   ]
  },
  {
   "cell_type": "code",
   "execution_count": 93,
   "metadata": {},
   "outputs": [
    {
     "data": {
      "text/html": [
       "<div>\n",
       "<style scoped>\n",
       "    .dataframe tbody tr th:only-of-type {\n",
       "        vertical-align: middle;\n",
       "    }\n",
       "\n",
       "    .dataframe tbody tr th {\n",
       "        vertical-align: top;\n",
       "    }\n",
       "\n",
       "    .dataframe thead th {\n",
       "        text-align: right;\n",
       "    }\n",
       "</style>\n",
       "<table border=\"1\" class=\"dataframe\">\n",
       "  <thead>\n",
       "    <tr style=\"text-align: right;\">\n",
       "      <th></th>\n",
       "      <th>date</th>\n",
       "      <th>test</th>\n",
       "    </tr>\n",
       "  </thead>\n",
       "  <tbody>\n",
       "    <tr>\n",
       "      <td>0</td>\n",
       "      <td>2018-08-10</td>\n",
       "      <td>0.661546</td>\n",
       "    </tr>\n",
       "    <tr>\n",
       "      <td>4</td>\n",
       "      <td>2018-08-11</td>\n",
       "      <td>0.592008</td>\n",
       "    </tr>\n",
       "    <tr>\n",
       "      <td>8</td>\n",
       "      <td>2018-08-12</td>\n",
       "      <td>1.002725</td>\n",
       "    </tr>\n",
       "    <tr>\n",
       "      <td>2</td>\n",
       "      <td>2018-09-10</td>\n",
       "      <td>-1.040435</td>\n",
       "    </tr>\n",
       "    <tr>\n",
       "      <td>6</td>\n",
       "      <td>2018-09-11</td>\n",
       "      <td>-0.062918</td>\n",
       "    </tr>\n",
       "  </tbody>\n",
       "</table>\n",
       "</div>"
      ],
      "text/plain": [
       "        date      test\n",
       "0 2018-08-10  0.661546\n",
       "4 2018-08-11  0.592008\n",
       "8 2018-08-12  1.002725\n",
       "2 2018-09-10 -1.040435\n",
       "6 2018-09-11 -0.062918"
      ]
     },
     "execution_count": 93,
     "metadata": {},
     "output_type": "execute_result"
    }
   ],
   "source": [
    "df_datetime_test.head()"
   ]
  },
  {
   "cell_type": "code",
   "execution_count": 94,
   "metadata": {},
   "outputs": [],
   "source": [
    "## C"
   ]
  },
  {
   "cell_type": "code",
   "execution_count": 95,
   "metadata": {},
   "outputs": [],
   "source": [
    "\n",
    "foods = pd.Series([\"Bread\", \"Rice\", \"Steak\", \"Ham\", \"Chicken\",\n",
    "                       \"Apples\", \"Potatoes\", \"Mangoes\", \"Fish\",\n",
    "                       \"Bread\", \"Rice\", \"Steak\", \"Ham\", \"Chicken\",\n",
    "                       \"Apples\", \"Potatoes\", \"Mangoes\", \"Fish\",\n",
    "                       \"Apples\", \"Potatoes\", \"Mangoes\", \"Fish\",\n",
    "                       \"Apples\", \"Potatoes\", \"Mangoes\", \"Fish\",\n",
    "                       \"Bread\", \"Rice\", \"Steak\", \"Ham\", \"Chicken\",\n",
    "                       \"Bread\", \"Rice\", \"Steak\", \"Ham\", \"Chicken\",\n",
    "                       \"Bread\", \"Rice\", \"Steak\", \"Ham\", \"Chicken\",\n",
    "                       \"Apples\", \"Potatoes\", \"Mangoes\", \"Fish\",\n",
    "                       \"Apples\", \"Potatoes\", \"Mangoes\", \"Fish\",\n",
    "                       \"Apples\", \"Potatoes\", \"Mangoes\", \"Fish\",\n",
    "                       \"Bread\", \"Rice\", \"Steak\", \"Ham\", \"Chicken\",\n",
    "                       \"Bread\", \"Rice\", \"Steak\", \"Ham\", \"Chicken\",])\n",
    "\n",
    "groups_dict = {\n",
    "    \"Protein\": [\"Steak\", \"Ham\", \"Chicken\", \"Fish\"],\n",
    "    \"Carbs\": [\"Bread\", \"Rice\", \"Apples\", \"Potatoes\", \"Mangoes\"]\n",
    "}"
   ]
  },
  {
   "cell_type": "code",
   "execution_count": 98,
   "metadata": {},
   "outputs": [
    {
     "name": "stdout",
     "output_type": "stream",
     "text": [
      "Protein -  ['Steak', 'Ham', 'Chicken', 'Fish']\n",
      "Carbs -  ['Bread', 'Rice', 'Apples', 'Potatoes', 'Mangoes']\n"
     ]
    }
   ],
   "source": [
    "for k, v in groups_dict.items():\n",
    "    print(k , \"- \", v)\n"
   ]
  },
  {
   "cell_type": "code",
   "execution_count": 99,
   "metadata": {},
   "outputs": [],
   "source": [
    "groupss = {x: k for k,v in groups_dict.items() for x in v}"
   ]
  },
  {
   "cell_type": "code",
   "execution_count": 100,
   "metadata": {},
   "outputs": [
    {
     "data": {
      "text/plain": [
       "{'Steak': 'Protein',\n",
       " 'Ham': 'Protein',\n",
       " 'Chicken': 'Protein',\n",
       " 'Fish': 'Protein',\n",
       " 'Bread': 'Carbs',\n",
       " 'Rice': 'Carbs',\n",
       " 'Apples': 'Carbs',\n",
       " 'Potatoes': 'Carbs',\n",
       " 'Mangoes': 'Carbs'}"
      ]
     },
     "execution_count": 100,
     "metadata": {},
     "output_type": "execute_result"
    }
   ],
   "source": [
    "groupss"
   ]
  },
  {
   "cell_type": "code",
   "execution_count": 102,
   "metadata": {},
   "outputs": [],
   "source": [
    "mapped_food = foods.map(groupss)"
   ]
  },
  {
   "cell_type": "code",
   "execution_count": 104,
   "metadata": {},
   "outputs": [
    {
     "name": "stdout",
     "output_type": "stream",
     "text": [
      "['Carbs', 'Carbs', 'Protein', 'Protein', 'Protein', 'Carbs', 'Carbs', 'Carbs', 'Protein', 'Carbs', 'Carbs', 'Protein', 'Protein', 'Protein', 'Carbs', 'Carbs', 'Carbs', 'Protein', 'Carbs', 'Carbs', 'Carbs', 'Protein', 'Carbs', 'Carbs', 'Carbs', 'Protein', 'Carbs', 'Carbs', 'Protein', 'Protein', 'Protein', 'Carbs', 'Carbs', 'Protein', 'Protein', 'Protein', 'Carbs', 'Carbs', 'Protein', 'Protein', 'Protein', 'Carbs', 'Carbs', 'Carbs', 'Protein', 'Carbs', 'Carbs', 'Carbs', 'Protein', 'Carbs', 'Carbs', 'Carbs', 'Protein', 'Carbs', 'Carbs', 'Protein', 'Protein', 'Protein', 'Carbs', 'Carbs', 'Protein', 'Protein', 'Protein']\n"
     ]
    }
   ],
   "source": [
    "print(list(mapped_food))"
   ]
  },
  {
   "cell_type": "code",
   "execution_count": 108,
   "metadata": {},
   "outputs": [],
   "source": [
    "food_df = pd.DataFrame({'Food': foods, 'Food_Categoery': mapped_food})"
   ]
  },
  {
   "cell_type": "code",
   "execution_count": 109,
   "metadata": {},
   "outputs": [
    {
     "data": {
      "text/html": [
       "<div>\n",
       "<style scoped>\n",
       "    .dataframe tbody tr th:only-of-type {\n",
       "        vertical-align: middle;\n",
       "    }\n",
       "\n",
       "    .dataframe tbody tr th {\n",
       "        vertical-align: top;\n",
       "    }\n",
       "\n",
       "    .dataframe thead th {\n",
       "        text-align: right;\n",
       "    }\n",
       "</style>\n",
       "<table border=\"1\" class=\"dataframe\">\n",
       "  <thead>\n",
       "    <tr style=\"text-align: right;\">\n",
       "      <th></th>\n",
       "      <th>Food</th>\n",
       "      <th>Food_Categoery</th>\n",
       "    </tr>\n",
       "  </thead>\n",
       "  <tbody>\n",
       "    <tr>\n",
       "      <td>0</td>\n",
       "      <td>Bread</td>\n",
       "      <td>Carbs</td>\n",
       "    </tr>\n",
       "    <tr>\n",
       "      <td>1</td>\n",
       "      <td>Rice</td>\n",
       "      <td>Carbs</td>\n",
       "    </tr>\n",
       "    <tr>\n",
       "      <td>2</td>\n",
       "      <td>Steak</td>\n",
       "      <td>Protein</td>\n",
       "    </tr>\n",
       "    <tr>\n",
       "      <td>3</td>\n",
       "      <td>Ham</td>\n",
       "      <td>Protein</td>\n",
       "    </tr>\n",
       "    <tr>\n",
       "      <td>4</td>\n",
       "      <td>Chicken</td>\n",
       "      <td>Protein</td>\n",
       "    </tr>\n",
       "  </tbody>\n",
       "</table>\n",
       "</div>"
      ],
      "text/plain": [
       "      Food Food_Categoery\n",
       "0    Bread          Carbs\n",
       "1     Rice          Carbs\n",
       "2    Steak        Protein\n",
       "3      Ham        Protein\n",
       "4  Chicken        Protein"
      ]
     },
     "execution_count": 109,
     "metadata": {},
     "output_type": "execute_result"
    }
   ],
   "source": [
    "food_df.head()"
   ]
  },
  {
   "cell_type": "code",
   "execution_count": 118,
   "metadata": {},
   "outputs": [
    {
     "data": {
      "text/html": [
       "<div>\n",
       "<style scoped>\n",
       "    .dataframe tbody tr th:only-of-type {\n",
       "        vertical-align: middle;\n",
       "    }\n",
       "\n",
       "    .dataframe tbody tr th {\n",
       "        vertical-align: top;\n",
       "    }\n",
       "\n",
       "    .dataframe thead th {\n",
       "        text-align: right;\n",
       "    }\n",
       "</style>\n",
       "<table border=\"1\" class=\"dataframe\">\n",
       "  <thead>\n",
       "    <tr style=\"text-align: right;\">\n",
       "      <th></th>\n",
       "      <th>Food</th>\n",
       "      <th>Food_Categoery</th>\n",
       "    </tr>\n",
       "  </thead>\n",
       "  <tbody>\n",
       "    <tr>\n",
       "      <td>1</td>\n",
       "      <td>Rice</td>\n",
       "      <td>Carbs</td>\n",
       "    </tr>\n",
       "    <tr>\n",
       "      <td>2</td>\n",
       "      <td>Steak</td>\n",
       "      <td>Protein</td>\n",
       "    </tr>\n",
       "    <tr>\n",
       "      <td>4</td>\n",
       "      <td>Chicken</td>\n",
       "      <td>Protein</td>\n",
       "    </tr>\n",
       "    <tr>\n",
       "      <td>6</td>\n",
       "      <td>Potatoes</td>\n",
       "      <td>Carbs</td>\n",
       "    </tr>\n",
       "    <tr>\n",
       "      <td>7</td>\n",
       "      <td>Mangoes</td>\n",
       "      <td>Carbs</td>\n",
       "    </tr>\n",
       "  </tbody>\n",
       "</table>\n",
       "</div>"
      ],
      "text/plain": [
       "       Food Food_Categoery\n",
       "1      Rice          Carbs\n",
       "2     Steak        Protein\n",
       "4   Chicken        Protein\n",
       "6  Potatoes          Carbs\n",
       "7   Mangoes          Carbs"
      ]
     },
     "execution_count": 118,
     "metadata": {},
     "output_type": "execute_result"
    }
   ],
   "source": [
    "# Delete Row based on index\n",
    "food_df.drop(index=[0,3,5], axis=0).head()"
   ]
  },
  {
   "cell_type": "code",
   "execution_count": 119,
   "metadata": {},
   "outputs": [
    {
     "data": {
      "text/html": [
       "<div>\n",
       "<style scoped>\n",
       "    .dataframe tbody tr th:only-of-type {\n",
       "        vertical-align: middle;\n",
       "    }\n",
       "\n",
       "    .dataframe tbody tr th {\n",
       "        vertical-align: top;\n",
       "    }\n",
       "\n",
       "    .dataframe thead th {\n",
       "        text-align: right;\n",
       "    }\n",
       "</style>\n",
       "<table border=\"1\" class=\"dataframe\">\n",
       "  <thead>\n",
       "    <tr style=\"text-align: right;\">\n",
       "      <th></th>\n",
       "      <th>Food</th>\n",
       "      <th>Food_Categoery</th>\n",
       "    </tr>\n",
       "  </thead>\n",
       "  <tbody>\n",
       "    <tr>\n",
       "      <td>0</td>\n",
       "      <td>Bread</td>\n",
       "      <td>Carbs</td>\n",
       "    </tr>\n",
       "    <tr>\n",
       "      <td>2</td>\n",
       "      <td>Steak</td>\n",
       "      <td>Protein</td>\n",
       "    </tr>\n",
       "    <tr>\n",
       "      <td>3</td>\n",
       "      <td>Ham</td>\n",
       "      <td>Protein</td>\n",
       "    </tr>\n",
       "    <tr>\n",
       "      <td>4</td>\n",
       "      <td>Chicken</td>\n",
       "      <td>Protein</td>\n",
       "    </tr>\n",
       "    <tr>\n",
       "      <td>5</td>\n",
       "      <td>Apples</td>\n",
       "      <td>Carbs</td>\n",
       "    </tr>\n",
       "  </tbody>\n",
       "</table>\n",
       "</div>"
      ],
      "text/plain": [
       "      Food Food_Categoery\n",
       "0    Bread          Carbs\n",
       "2    Steak        Protein\n",
       "3      Ham        Protein\n",
       "4  Chicken        Protein\n",
       "5   Apples          Carbs"
      ]
     },
     "execution_count": 119,
     "metadata": {},
     "output_type": "execute_result"
    }
   ],
   "source": [
    "# Delete records from data frame based on condition.\n",
    "food_df.drop(food_df[(food_df['Food']=='Rice')].index,axis=0).head() # inplace=True if you want to replace data frame."
   ]
  },
  {
   "cell_type": "code",
   "execution_count": null,
   "metadata": {},
   "outputs": [],
   "source": []
  }
 ],
 "metadata": {
  "kernelspec": {
   "display_name": "Python 3",
   "language": "python",
   "name": "python3"
  },
  "language_info": {
   "codemirror_mode": {
    "name": "ipython",
    "version": 3
   },
   "file_extension": ".py",
   "mimetype": "text/x-python",
   "name": "python",
   "nbconvert_exporter": "python",
   "pygments_lexer": "ipython3",
   "version": "3.7.4"
  }
 },
 "nbformat": 4,
 "nbformat_minor": 2
}
